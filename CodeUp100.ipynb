{
  "nbformat": 4,
  "nbformat_minor": 0,
  "metadata": {
    "colab": {
      "provenance": [],
      "authorship_tag": "ABX9TyP1MqhUgv7baXdfaZUoRhd1",
      "include_colab_link": true
    },
    "kernelspec": {
      "name": "python3",
      "display_name": "Python 3"
    },
    "language_info": {
      "name": "python"
    }
  },
  "cells": [
    {
      "cell_type": "markdown",
      "metadata": {
        "id": "view-in-github",
        "colab_type": "text"
      },
      "source": [
        "<a href=\"https://colab.research.google.com/github/data-sign/algorithm/blob/main/CodeUp100.ipynb\" target=\"_parent\"><img src=\"https://colab.research.google.com/assets/colab-badge.svg\" alt=\"Open In Colab\"/></a>"
      ]
    },
    {
      "cell_type": "code",
      "execution_count": null,
      "metadata": {
        "colab": {
          "base_uri": "https://localhost:8080/"
        },
        "id": "tHqlfMqU8D_k",
        "outputId": "7d6d42a0-e3ec-4d7d-869f-8baad0298429"
      },
      "outputs": [
        {
          "output_type": "stream",
          "name": "stdout",
          "text": [
            "11\n",
            "b\n"
          ]
        }
      ],
      "source": [
        "4# 6027 : [기초-출력변환] 10진 정수 입력받아 16진수로 출력하기1(설명)(py)\n",
        "a = input()\n",
        "n = int(a)            #입력된 a를 10진수 값으로 변환해 변수 n에 저장\n",
        "print('%x'% n)  #n에 저장되어있는 값을 16진수(hexadecimal) 소문자 형태 문자열로 출력"
      ]
    },
    {
      "cell_type": "code",
      "source": [
        "# 6029 : [기초-값변환] 16진 정수 입력받아 8진수로 출력하기(설명)(py)\n",
        "a = input()\n",
        "n = int(a, 16)      #입력된 a를 16진수로 인식해 변수 n에 저장\n",
        "print('%o' % n)  #n에 저장되어있는 값을 8진수(octal) 형태 문자열로 출력"
      ],
      "metadata": {
        "colab": {
          "base_uri": "https://localhost:8080/",
          "height": 36
        },
        "id": "8TYDeiUX8OnT",
        "outputId": "79101448-e760-4947-9103-d1ec64f55842"
      },
      "execution_count": null,
      "outputs": [
        {
          "output_type": "execute_result",
          "data": {
            "text/plain": [
              "'0009071121112'"
            ],
            "application/vnd.google.colaboratory.intrinsic+json": {
              "type": "string"
            }
          },
          "metadata": {},
          "execution_count": 3
        }
      ]
    },
    {
      "cell_type": "code",
      "source": [
        "# 6030 : [기초-값변환] 영문자 1개 입력받아 10진수로 변환하기(설명)(py)\n",
        "n = ord(input())\n",
        "print(n) #입력받은 문자를 10진수 유니코드 값으로 변환한 후, n에 저장한다."
      ],
      "metadata": {
        "id": "R0ImU0Zw8WXR"
      },
      "execution_count": null,
      "outputs": []
    },
    {
      "cell_type": "code",
      "source": [
        "# 6031 : [기초-값변환] 정수 입력받아 유니코드 문자로 변환하기(설명)(py) \n",
        "c = int(input())\n",
        "print(chr(c))  #c에 저장되어 있는 정수 값을 유니코드 문자(chracter)로 바꿔 출력한다. "
      ],
      "metadata": {
        "id": "EeCN2ruUDqqX"
      },
      "execution_count": null,
      "outputs": []
    },
    {
      "cell_type": "code",
      "source": [
        "# 6032 : [기초-산술연산] 정수 1개 입력받아 부호 바꾸기(설명)(py)\n",
        "n = input()\n",
        "n = int(n)\n",
        "print(-n)"
      ],
      "metadata": {
        "colab": {
          "base_uri": "https://localhost:8080/"
        },
        "id": "WB_ESt_wDvn3",
        "outputId": "e941ec68-d72c-4b64-87fa-6a6cea8038cf"
      },
      "execution_count": null,
      "outputs": [
        {
          "output_type": "stream",
          "name": "stdout",
          "text": [
            "3\n",
            "-3\n"
          ]
        }
      ]
    },
    {
      "cell_type": "code",
      "source": [
        "# 6033 : [기초-산술연산] 문자 1개 입력받아 다음 문자 출력하기(설명)(py)\n",
        "n = input()\n",
        "n = ord(n)  # 영문자를 10진수로 변환\n",
        "print(chr(n+1))  # 정수를 유니코드 문자로 변환환"
      ],
      "metadata": {
        "colab": {
          "base_uri": "https://localhost:8080/"
        },
        "id": "H1OarmVBD7TW",
        "outputId": "b946ebc0-882d-4a03-ed4d-d6fbdd9b18e7"
      },
      "execution_count": null,
      "outputs": [
        {
          "output_type": "stream",
          "name": "stdout",
          "text": [
            "A\n",
            "K\n"
          ]
        }
      ]
    },
    {
      "cell_type": "code",
      "source": [
        "# 6034 : [기초-산술연산] 정수 2개 입력받아 차 계산하기(설명)(py)\n",
        "a, b = input().split()\n",
        "c = int(a) - int(b)\n",
        "print(c)"
      ],
      "metadata": {
        "colab": {
          "base_uri": "https://localhost:8080/",
          "height": 36
        },
        "id": "eOlUvfxnEhsM",
        "outputId": "1b0eab28-32bd-454b-dba4-984bfec22609"
      },
      "execution_count": null,
      "outputs": [
        {
          "output_type": "execute_result",
          "data": {
            "text/plain": [
              "'B'"
            ],
            "application/vnd.google.colaboratory.intrinsic+json": {
              "type": "string"
            }
          },
          "metadata": {},
          "execution_count": 17
        }
      ]
    },
    {
      "cell_type": "code",
      "source": [
        "# 6035 : [기초-산술연산] 실수 2개 입력받아 곱 계산하기(설명)(py)\n",
        "f1, f2 = input().split()\n",
        "f1 = float(f1)\n",
        "f2 = float(f2)\n",
        "m = f1 * f2\n",
        "print(m)"
      ],
      "metadata": {
        "id": "Bp_Pp-GWEwX0"
      },
      "execution_count": null,
      "outputs": []
    },
    {
      "cell_type": "code",
      "source": [
        "# 6036 : [기초-산술연산] 단어 여러 번 출력하기(설명)(py)\n",
        "w, n = input().split()\n",
        "print(w*int(n))"
      ],
      "metadata": {
        "id": "L3nx9rlvGOx-"
      },
      "execution_count": null,
      "outputs": []
    },
    {
      "cell_type": "code",
      "source": [
        "# 6037 : [기초-산술연산] 문장 여러 번 출력하기(설명)(py)\n",
        "n = input()\n",
        "s = input()\n",
        "print(int(n)*s)"
      ],
      "metadata": {
        "id": "V372QGOoGp_w"
      },
      "execution_count": null,
      "outputs": []
    },
    {
      "cell_type": "code",
      "source": [
        "# 6038 : [기초-산술연산] 정수 2개 입력받아 거듭제곱 계산하기(설명)(py)\n",
        "a, b = input().split()\n",
        "c = int(a)**int(b)\n",
        "print(c)"
      ],
      "metadata": {
        "id": "ta_jE8NlGvq9"
      },
      "execution_count": null,
      "outputs": []
    },
    {
      "cell_type": "code",
      "source": [
        "# 6039 : [기초-산술연산] 실수 2개 입력받아 거듭제곱 계산하기(py)\n",
        "a, b = input().split()\n",
        "c = float(a)**float(b)\n",
        "print(c)"
      ],
      "metadata": {
        "id": "JVO30x01G-3d"
      },
      "execution_count": null,
      "outputs": []
    },
    {
      "cell_type": "code",
      "source": [
        "# 6040 : [기초-산술연산] 정수 2개 입력받아 나눈 몫 계산하기(설명)(py)\n",
        "a, b = input().split()\n",
        "print(int(a)//int(b))"
      ],
      "metadata": {
        "id": "uAUGbMuZHF6z"
      },
      "execution_count": null,
      "outputs": []
    },
    {
      "cell_type": "code",
      "source": [
        "# 6041 : [기초-산술연산] 정수 2개 입력받아 나눈 나머지 계산하기(설명)(py)\n",
        "a, b = input().split()\n",
        "print(int(a)%int(b))"
      ],
      "metadata": {
        "id": "qWcHkg_YHRPX"
      },
      "execution_count": null,
      "outputs": []
    },
    {
      "cell_type": "code",
      "source": [
        "# 6042 : [기초-값변환] 실수 1개 입력받아 소숫점이하 자리 변환하기(설명)(py)\n",
        "a=input()\n",
        "a=float(a)\n",
        "print( format(a, \".2f\") )"
      ],
      "metadata": {
        "id": "dg5dcOXCHdIG"
      },
      "execution_count": null,
      "outputs": []
    },
    {
      "cell_type": "code",
      "source": [
        "# 6043 : [기초-산술연산] 실수 2개 입력받아 나눈 결과 계산하기(py)\n",
        "a, b = input().split()\n",
        "a = float(a)\n",
        "b = float(b)\n",
        "print( format(a/b, \".3f\") )"
      ],
      "metadata": {
        "id": "80shnK4dHi1n"
      },
      "execution_count": null,
      "outputs": []
    },
    {
      "cell_type": "code",
      "source": [
        "# 6044 : [기초-산술연산] 정수 2개 입력받아 자동 계산하기(py)\n",
        "a, b = input().split()\n",
        "a = int(a)\n",
        "b = int(b)\n",
        "print(a+b)\n",
        "print(a-b)\n",
        "print(a*b)\n",
        "print(a//b)\n",
        "print(a%b)\n",
        "print( format(a/b, \".2f\"))"
      ],
      "metadata": {
        "id": "SiWksZliIhl-"
      },
      "execution_count": null,
      "outputs": []
    },
    {
      "cell_type": "code",
      "source": [
        "# 6045 : [기초-산술연산] 정수 3개 입력받아 합과 평균 출력하기(설명)(py)\n",
        "a, b, c = input().split()\n",
        "a, b, c = int(a), int(b), int(c)\n",
        "print(a+b+c, format((a+b+c)/3, \".2f\"))"
      ],
      "metadata": {
        "id": "ThvXpilsJHyU"
      },
      "execution_count": null,
      "outputs": []
    },
    {
      "cell_type": "code",
      "source": [
        "# 6046 : [기초-비트시프트연산] 정수 1개 입력받아 2배 곱해 출력하기(설명)(py)\n",
        "n = input()\n",
        "n = int(n)\n",
        "print(n<<1)"
      ],
      "metadata": {
        "id": "BeVxrxn7JjU-"
      },
      "execution_count": null,
      "outputs": []
    },
    {
      "cell_type": "code",
      "source": [
        "# 6047 : [기초-비트시프트연산] 2의 거듭제곱 배로 곱해 출력하기(설명)(py)\n",
        "a, b = input().split()\n",
        "print(int(a)<<int(b))"
      ],
      "metadata": {
        "id": "_sqAq08h7ezn"
      },
      "execution_count": null,
      "outputs": []
    },
    {
      "cell_type": "code",
      "source": [
        "# 6048 : [기초-비교연산] 정수 2개 입력받아 비교하기1(설명)(py)\n",
        "a, b = input().split()\n",
        "if int(a) < int(b): \n",
        "  print(True)\n",
        "else: \n",
        "  print(False)\n",
        "\n",
        "# 다른 답답\n",
        "print(a<b) "
      ],
      "metadata": {
        "id": "lVZrk0dm9ql2"
      },
      "execution_count": null,
      "outputs": []
    },
    {
      "cell_type": "code",
      "source": [
        "# 6049 : [기초-비교연산] 정수 2개 입력받아 비교하기2(설명)(py)\n",
        "a, b = input().split()\n",
        "print(a==b)"
      ],
      "metadata": {
        "id": "DJqeaqdEI8im"
      },
      "execution_count": null,
      "outputs": []
    },
    {
      "cell_type": "code",
      "source": [
        "# 6050 : [기초-비교연산] 정수 2개 입력받아 비교하기3(설명)(py)\n",
        "a, b = input().split()\n",
        "print(int(a)<=int(b))"
      ],
      "metadata": {
        "id": "GSoITLlcJM5A"
      },
      "execution_count": null,
      "outputs": []
    },
    {
      "cell_type": "code",
      "source": [
        "# 6051 : [기초-비교연산] 정수 2개 입력받아 비교하기4(설명)(py)\n",
        "a, b = input().split()\n",
        "print(a!=b)"
      ],
      "metadata": {
        "id": "KRoZI3guJdb2"
      },
      "execution_count": null,
      "outputs": []
    },
    {
      "cell_type": "code",
      "source": [
        "# 6052 : [기초-논리연산] 정수 입력받아 참 거짓 평가하기(설명)(py)\n",
        "n = int(input())\n",
        "print(bool(n))  # bool() 은 not true(0) = false, not false(1 이상 정수)=true 반환\n"
      ],
      "metadata": {
        "colab": {
          "base_uri": "https://localhost:8080/"
        },
        "id": "YdSnRuRcJmEI",
        "outputId": "df4a9430-e444-4343-f06f-cb1da6d64cfc"
      },
      "execution_count": null,
      "outputs": [
        {
          "output_type": "stream",
          "name": "stdout",
          "text": [
            "5\n",
            "True\n"
          ]
        }
      ]
    },
    {
      "cell_type": "code",
      "source": [
        "# 6053 : [기초-논리연산] 참 거짓 바꾸기(설명)(py)\n",
        "a = bool(int(input()))\n",
        "print(not a)   # not 예약어로 참 또는 거짓의 논리값을 반대로 바꿀 수 있음음"
      ],
      "metadata": {
        "colab": {
          "base_uri": "https://localhost:8080/"
        },
        "id": "B52FxcYNJ2ny",
        "outputId": "6d1af67e-a3ec-419d-b022-df27c4b9eecb"
      },
      "execution_count": null,
      "outputs": [
        {
          "output_type": "stream",
          "name": "stdout",
          "text": [
            "0\n",
            "True\n"
          ]
        }
      ]
    },
    {
      "cell_type": "code",
      "source": [
        "# 6054 : [기초-논리연산] 둘 다 참일 경우만 참 출력하기(설명)(py)\n",
        "a, b = input().split()\n",
        "print(bool(int(a)) and bool(int(b)))"
      ],
      "metadata": {
        "id": "_0hu4m38KC2h"
      },
      "execution_count": null,
      "outputs": []
    },
    {
      "cell_type": "code",
      "source": [
        "# 6055 : [기초-논리연산] 하나라도 참이면 참 출력하기(설명)(py)\n",
        "a, b = input().split()\n",
        "print(bool(int(a)) or bool(int(b)))"
      ],
      "metadata": {
        "id": "nHgKvfK3K98R"
      },
      "execution_count": null,
      "outputs": []
    },
    {
      "cell_type": "code",
      "source": [
        "# 6056 : [기초-논리연산] 참/거짓이 서로 다를 때에만 참 출력하기(설명)(py)\n",
        "a, b = input().split()\n",
        "c = bool(int(a))\n",
        "d = bool(int(b))\n",
        "print((c and (not d)) or ((not c) and d))\n",
        "\n",
        "# 참 거짓이 서로 다를 때에만 True 로 계산하는 논리연산을 XOR(exclusive or, 배타적 논리합) 연산"
      ],
      "metadata": {
        "id": "t6ee1e-iK-Ff"
      },
      "execution_count": null,
      "outputs": []
    },
    {
      "cell_type": "code",
      "source": [
        "# 6057 : [기초-논리연산] 참/거짓이 서로 같을 때에만 참 출력하기(설명)(py)\n",
        "a, b = input().split()\n",
        "c = bool(int(a))\n",
        "d = bool(int(b))\n",
        "print((c and d) or ((not c) and (not d)))"
      ],
      "metadata": {
        "id": "GbNUFj6gLnie"
      },
      "execution_count": null,
      "outputs": []
    },
    {
      "cell_type": "code",
      "source": [
        "# 6058 : [기초-논리연산] 둘 다 거짓일 경우만 참 출력하기(py)\n",
        "a, b = input().split()\n",
        "c = bool(int(a))\n",
        "d = bool(int(b))\n",
        "print(not c and not d)"
      ],
      "metadata": {
        "colab": {
          "base_uri": "https://localhost:8080/"
        },
        "id": "5_D0iC3rL0Hp",
        "outputId": "188d6ffd-b6d1-4600-e6de-8ad07aa93d44"
      },
      "execution_count": null,
      "outputs": [
        {
          "output_type": "stream",
          "name": "stdout",
          "text": [
            "0 0\n",
            "True\n"
          ]
        }
      ]
    },
    {
      "cell_type": "code",
      "source": [
        "# 6059 : [기초-비트단위논리연산] 비트단위로 NOT 하여 출력하기(설명)(py)\n",
        "a = int(input())\n",
        "print(~a)"
      ],
      "metadata": {
        "colab": {
          "base_uri": "https://localhost:8080/"
        },
        "id": "nhw1iB8WMNAy",
        "outputId": "2a1b5f73-06a7-45f6-d8d7-b079af3c5446"
      },
      "execution_count": null,
      "outputs": [
        {
          "output_type": "stream",
          "name": "stdout",
          "text": [
            "-3\n"
          ]
        }
      ]
    },
    {
      "cell_type": "code",
      "source": [
        "# 6060 : [기초-비트단위논리연산] 비트단위로 AND 하여 출력하기(설명)(py)\n",
        "## ~(bitwise not), &(bitwise and), |(bitwise or), ^(bitwise xor),\n",
        "## <<(bitwise left shift), >>(bitwise right shift)\n",
        "a, b = input().split()\n",
        "a, b = int(a), int(b)\n",
        "print(a&b)"
      ],
      "metadata": {
        "colab": {
          "base_uri": "https://localhost:8080/"
        },
        "id": "7rJdTgXkM9es",
        "outputId": "547ada12-6735-4efa-a799-5bcdf6b4544f"
      },
      "execution_count": null,
      "outputs": [
        {
          "output_type": "stream",
          "name": "stdout",
          "text": [
            "3 5\n",
            "1\n"
          ]
        }
      ]
    },
    {
      "cell_type": "code",
      "source": [
        "# 6061 : [기초-비트단위논리연산] 비트단위로 OR 하여 출력하기(설명)(py)\n",
        "a, b = input().split()\n",
        "a, b = int(a), int(b)\n",
        "print(a|b)"
      ],
      "metadata": {
        "colab": {
          "base_uri": "https://localhost:8080/"
        },
        "id": "hj0RnFi5NhPv",
        "outputId": "2bb5aa6d-bacf-4e3d-927e-cbc750b78959"
      },
      "execution_count": null,
      "outputs": [
        {
          "output_type": "stream",
          "name": "stdout",
          "text": [
            "3 5\n",
            "7\n"
          ]
        }
      ]
    },
    {
      "cell_type": "code",
      "source": [
        "# 6062 : [기초-비트단위논리연산] 비트단위로 XOR 하여 출력하기(설명)(py)\n",
        "## xor : 전혀 다른 배타적 논리합(xor, 서로 다를 때 1)\n",
        "a, b = input().split()\n",
        "a, b = int(a), int(b)\n",
        "print(a^b)"
      ],
      "metadata": {
        "colab": {
          "base_uri": "https://localhost:8080/"
        },
        "id": "BuBPvCG5Nuze",
        "outputId": "8172fe5d-44f4-4291-d1f4-bb2af50011a7"
      },
      "execution_count": null,
      "outputs": [
        {
          "output_type": "stream",
          "name": "stdout",
          "text": [
            "3 5\n",
            "6\n"
          ]
        }
      ]
    },
    {
      "cell_type": "code",
      "source": [
        "# 6063 : [기초-3항연산] 정수 2개 입력받아 큰 값 출력하기(설명)(py)\n",
        "a, b = input().split()\n",
        "a = int(a)  #변수 a에 저장되어있는 값을 정수로 바꾸어 다시 변수 a에 저장\n",
        "b = int(b)\n",
        "c = (a if (a>=b) else b)\n",
        "print(int(c))"
      ],
      "metadata": {
        "id": "sas9BEgIN_GJ"
      },
      "execution_count": null,
      "outputs": []
    },
    {
      "cell_type": "code",
      "source": [
        "# 6064 : [기초-3항연산] 정수 3개 입력받아 가장 작은 값 출력하기(설명)(py)\n",
        "a, b, c = input().split()\n",
        "a, b, c = int(a), int(b), int(c)\n",
        "d = (a if a<b else b) if ((a if a<b else b)<c) else c\n",
        "print(int(d))"
      ],
      "metadata": {
        "id": "tMgsHaOS4bde"
      },
      "execution_count": null,
      "outputs": []
    },
    {
      "cell_type": "code",
      "source": [
        "# 6065 : [기초-조건/선택실행구조] 정수 3개 입력받아 짝수만 출력하기(설명)(py)\n",
        "a, b, c = input().split()\n",
        "a = int(a)\n",
        "b = int(b)\n",
        "c = int(c)\n",
        "if a%2==0 :  #논리적으로 한 단위로 처리해야하는 경우 콜론(:)을 찍고, 들여쓰기로 작성 한다.\n",
        "  print(a)\n",
        "\n",
        "if b%2==0 :\n",
        "  print(b) \n",
        "\n",
        "if c%2==0 :\n",
        "  print(c) "
      ],
      "metadata": {
        "id": "nEo-Xed44-Kv"
      },
      "execution_count": null,
      "outputs": []
    },
    {
      "cell_type": "code",
      "source": [
        "# 6066 : [기초-조건/선택실행구조] 정수 3개 입력받아 짝/홀 출력하기(설명)(py)\n",
        "a, b, c = input().split()\n",
        "a = int(a)\n",
        "b = int(b)\n",
        "c = int(c)\n",
        "\n",
        "if a%2==0 :\n",
        "  print(\"even\")\n",
        "else :\n",
        "  print(\"odd\") \n",
        "if b%2==0 :\n",
        "  print(\"even\")\n",
        "else :\n",
        "  print(\"odd\") \n",
        "if c%2==0 :\n",
        "  print(\"even\")\n",
        "else :\n",
        "  print(\"odd\") "
      ],
      "metadata": {
        "colab": {
          "base_uri": "https://localhost:8080/"
        },
        "id": "cEgpmGgU5dYt",
        "outputId": "227e07c8-9d14-4773-eefc-34b5e268a5cf"
      },
      "execution_count": null,
      "outputs": [
        {
          "output_type": "stream",
          "name": "stdout",
          "text": [
            "1 2 8\n",
            "odd\n",
            "even\n",
            "even\n"
          ]
        }
      ]
    },
    {
      "cell_type": "code",
      "source": [
        "# 6067 : [기초-조건/선택실행구조] 정수 1개 입력받아 분류하기(설명)(py)\n",
        "n = int(input())\n",
        "if n<0 :\n",
        "  if n%2==0 :\n",
        "    print('A')      #주의 : 변수 A와 문자열 'A' / \"A\" 는 의미가 완전히 다르다. \n",
        "  else :\n",
        "    print('B')\n",
        "else :\n",
        "  if n%2==0 :\n",
        "    print('C')\n",
        "  else :\n",
        "    print('D')"
      ],
      "metadata": {
        "colab": {
          "base_uri": "https://localhost:8080/"
        },
        "id": "vL9eDrYH5qyE",
        "outputId": "5f04da59-b3f7-4ac1-8589-1badd1343a06"
      },
      "execution_count": null,
      "outputs": [
        {
          "output_type": "stream",
          "name": "stdout",
          "text": [
            "-2147483648\n",
            "A\n"
          ]
        }
      ]
    },
    {
      "cell_type": "code",
      "source": [
        "# 6067 : 중첩으로 표현현\n",
        "n = int(input())\n",
        "if (n<0) and (n%2==0) :\n",
        "    print('A')\n",
        "elif (n<0) and (n%2!=0):\n",
        "    print('B')\n",
        "elif (n>0) and (n%2==0): \n",
        "    print('C')\n",
        "else: \n",
        "  print('D')"
      ],
      "metadata": {
        "colab": {
          "base_uri": "https://localhost:8080/"
        },
        "id": "Byo9flph6IFd",
        "outputId": "568c18f9-c007-4e38-ab56-a4f6117341dd"
      },
      "execution_count": null,
      "outputs": [
        {
          "output_type": "stream",
          "name": "stdout",
          "text": [
            "-2147483648\n",
            "A\n"
          ]
        }
      ]
    },
    {
      "cell_type": "code",
      "source": [
        "# 6068 : [기초-조건/선택실행구조] 점수 입력받아 평가 출력하기(설명)(py)\n",
        "n = int(input())\n",
        "if n>=90 :\n",
        "  print('A')\n",
        "else :\n",
        "  if n>=70 :\n",
        "    print('B')\n",
        "  else :\n",
        "    if n>=40 :\n",
        "      print('C')\n",
        "    else :\n",
        "      print('D') "
      ],
      "metadata": {
        "id": "PaLjx_3B6F2h"
      },
      "execution_count": null,
      "outputs": []
    },
    {
      "cell_type": "code",
      "source": [
        "# 6069 : [기초-조건/선택실행구조] 평가 입력받아 다르게 출력하기(py)\n",
        "n = input()\n",
        "if n=='A' :\n",
        "  print('best!!!')\n",
        "else :\n",
        "  if n=='B' :\n",
        "    print('good!!')\n",
        "  else :\n",
        "    if n=='C' :\n",
        "      print('run!')\n",
        "    else: \n",
        "      if n=='D' :\n",
        "        print('slowly~') \n",
        "      else :\n",
        "        print('what?') "
      ],
      "metadata": {
        "colab": {
          "base_uri": "https://localhost:8080/"
        },
        "id": "1ZCwtiF27CkN",
        "outputId": "67de1886-f204-479e-b883-16e940b5bf07"
      },
      "execution_count": null,
      "outputs": [
        {
          "output_type": "stream",
          "name": "stdout",
          "text": [
            "A\n",
            "best!!\n"
          ]
        }
      ]
    },
    {
      "cell_type": "code",
      "source": [
        "# 6070 : [기초-조건/선택실행구조] 월 입력받아 계절 출력하기(설명)(py)\n",
        "n = int(input())\n",
        "if n//3 ==1: \n",
        "  print(\"spring\")\n",
        "else: \n",
        "  if n//3 == 2: \n",
        "    print(\"summer\")\n",
        "  else: \n",
        "    if n//3 == 3: \n",
        "      print(\"fall\")\n",
        "    else: \n",
        "      print(\"winter\")"
      ],
      "metadata": {
        "colab": {
          "base_uri": "https://localhost:8080/"
        },
        "id": "MccILill7XBe",
        "outputId": "c18c1d48-a7a2-43c1-9f97-4e66c9fc5039"
      },
      "execution_count": null,
      "outputs": [
        {
          "output_type": "stream",
          "name": "stdout",
          "text": [
            "12\n",
            "winter\n"
          ]
        }
      ]
    },
    {
      "cell_type": "code",
      "source": [
        "# 6071 : [기초-반복실행구조] 0 입력될 때까지 무한 출력하기(설명)(py)\n",
        "n = 1      #처음 조건 검사를 통과하기 위해 0 아닌 값을 임의로 저장\n",
        "while n!=0 :\n",
        "  n = int(input())\n",
        "  if n!=0 :\n",
        "    print(n)"
      ],
      "metadata": {
        "id": "1zpLtnbh8Awp"
      },
      "execution_count": null,
      "outputs": []
    },
    {
      "cell_type": "code",
      "source": [
        "# 6072 : [기초-반복실행구조] 정수 1개 입력받아 카운트다운 출력하기1(설명)(py)\n",
        "n = int(input())\n",
        "while n!=0 :\n",
        "  print(n)\n",
        "  n = n-1"
      ],
      "metadata": {
        "colab": {
          "base_uri": "https://localhost:8080/"
        },
        "id": "ap57nMtR8aow",
        "outputId": "fde86dfc-f87d-434e-ac7b-e7ba586ca208"
      },
      "execution_count": null,
      "outputs": [
        {
          "output_type": "stream",
          "name": "stdout",
          "text": [
            "3\n",
            "3\n",
            "2\n",
            "1\n"
          ]
        }
      ]
    },
    {
      "cell_type": "code",
      "source": [
        "# 6073 : [기초-반복실행구조] 정수 1개 입력받아 카운트다운 출력하기2(py)\n",
        "n = int(input())\n",
        "while n!=0 :\n",
        "  n = n-1\n",
        "  print(n)"
      ],
      "metadata": {
        "colab": {
          "base_uri": "https://localhost:8080/"
        },
        "id": "IqumVsj-8jiW",
        "outputId": "7ffca498-0cbb-4b3a-cbdb-63990128e99c"
      },
      "execution_count": null,
      "outputs": [
        {
          "output_type": "stream",
          "name": "stdout",
          "text": [
            "5\n",
            "4\n",
            "3\n",
            "2\n",
            "1\n",
            "0\n"
          ]
        }
      ]
    },
    {
      "cell_type": "code",
      "source": [
        "# 6074 : [기초-반복실행구조] 문자 1개 입력받아 알파벳 출력하기(설명)(py)\n",
        "c = ord(input())\n",
        "t = ord('a')\n",
        "while t<=c :\n",
        "  print(chr(t), end=' ')\n",
        "  t += 1"
      ],
      "metadata": {
        "colab": {
          "base_uri": "https://localhost:8080/"
        },
        "id": "AVkrsIdz8zhu",
        "outputId": "ab8700e0-bcb6-458e-ff8c-2b1c5e7c58db"
      },
      "execution_count": null,
      "outputs": [
        {
          "output_type": "stream",
          "name": "stdout",
          "text": [
            "c\n",
            "a b c "
          ]
        }
      ]
    },
    {
      "cell_type": "code",
      "source": [
        "# 6075 : [기초-반복실행구조] 정수 1개 입력받아 그 수까지 출력하기1(py)\n",
        "n = int(input())\n",
        "a = 0\n",
        "while a<=n :\n",
        "  print(a)\n",
        "  a = a+1"
      ],
      "metadata": {
        "colab": {
          "base_uri": "https://localhost:8080/"
        },
        "id": "p7oqXP0y9Hs0",
        "outputId": "965310e0-5904-4184-ff6c-549b08dd165c"
      },
      "execution_count": null,
      "outputs": [
        {
          "output_type": "stream",
          "name": "stdout",
          "text": [
            "4\n",
            "0\n",
            "1\n",
            "2\n",
            "3\n",
            "4\n"
          ]
        }
      ]
    },
    {
      "cell_type": "code",
      "source": [
        "# 6076 : [기초-반복실행구조] 정수 1개 입력받아 그 수까지 출력하기2(설명)(py)\n",
        "n = int(input())\n",
        "for i in range(n+1) :\n",
        "  print(i)"
      ],
      "metadata": {
        "colab": {
          "base_uri": "https://localhost:8080/"
        },
        "id": "hi9iu81t9mL2",
        "outputId": "8eacc88a-7b28-47ac-dd66-9807bdbe8936"
      },
      "execution_count": null,
      "outputs": [
        {
          "output_type": "stream",
          "name": "stdout",
          "text": [
            "4\n",
            "0\n",
            "1\n",
            "2\n",
            "3\n",
            "4\n"
          ]
        }
      ]
    },
    {
      "cell_type": "code",
      "source": [
        "# 6077 : [기초-종합] 짝수 합 구하기(설명)(py)\n",
        "\n",
        "n = int(input())\n",
        "s = 0\n",
        "for i in range(1, n+1) :\n",
        "  if i%2==0 :\n",
        "    s += i\n",
        "\n",
        "print(s)"
      ],
      "metadata": {
        "colab": {
          "base_uri": "https://localhost:8080/"
        },
        "id": "vyKhygFG9w63",
        "outputId": "5dbcc5b7-6375-4d4e-dd67-d6aff922779a"
      },
      "execution_count": null,
      "outputs": [
        {
          "output_type": "stream",
          "name": "stdout",
          "text": [
            "5\n",
            "6\n"
          ]
        }
      ]
    },
    {
      "cell_type": "code",
      "source": [
        "# 6078 : [기초-종합] 원하는 문자가 입력될 때까지 반복 출력하기(py)\n",
        "s = 1  #처음 조건 검사를 통과하기 위해 'q' 아닌 값을 임의로 저장\n",
        "while s!='q':\n",
        "  s = input()\n",
        "  print(s)"
      ],
      "metadata": {
        "colab": {
          "base_uri": "https://localhost:8080/"
        },
        "id": "yXqaqJ2R-ESQ",
        "outputId": "d65e3cb3-b063-407e-8c92-0ba8fe47113f"
      },
      "execution_count": null,
      "outputs": [
        {
          "output_type": "stream",
          "name": "stdout",
          "text": [
            "x\n",
            "x\n",
            "w\n",
            "w\n",
            "q\n",
            "q\n"
          ]
        }
      ]
    },
    {
      "cell_type": "code",
      "source": [
        "# 6079 : [기초-종합] 언제까지 더해야 할까?(py)\n",
        "n = int(input())\n",
        "a = 1\n",
        "sum = 0\n",
        "while sum < n:\n",
        "  sum += a\n",
        "  a += 1 \n",
        "print(a-1)"
      ],
      "metadata": {
        "id": "lEHS07OI-zLW",
        "colab": {
          "base_uri": "https://localhost:8080/"
        },
        "outputId": "8049f83b-756b-4fe9-f606-7c1fb01593b2"
      },
      "execution_count": null,
      "outputs": [
        {
          "output_type": "stream",
          "name": "stdout",
          "text": [
            "55\n",
            "11\n"
          ]
        }
      ]
    },
    {
      "cell_type": "code",
      "source": [
        "# 6079 : 예시 답안\n",
        "n = int(input())\n",
        "\n",
        "s = 0\n",
        "t = 0\n",
        "while s<n :\n",
        "  t = t+1\n",
        "  s = s+t\n",
        "  \n",
        "print(t)"
      ],
      "metadata": {
        "id": "GYJp-Ei9QpDp"
      },
      "execution_count": null,
      "outputs": []
    },
    {
      "cell_type": "code",
      "source": [
        "# 6080 : [기초-종합] 주사위 2개 던지기(설명)(py)\n",
        "n, m = input().split()\n",
        "n, m = int(n), int(m)\n",
        "for i in range(1, n+1) :\n",
        "  for j in range(1, m+1) :\n",
        "    print(i, j)"
      ],
      "metadata": {
        "colab": {
          "base_uri": "https://localhost:8080/"
        },
        "id": "Bl2lXPB7SLIu",
        "outputId": "a3699433-1121-4867-f8d6-753e92f946a8"
      },
      "execution_count": null,
      "outputs": [
        {
          "output_type": "stream",
          "name": "stdout",
          "text": [
            "2 3\n",
            "1 1\n",
            "1 2\n",
            "1 3\n",
            "2 1\n",
            "2 2\n",
            "2 3\n"
          ]
        }
      ]
    },
    {
      "cell_type": "code",
      "source": [
        "# 6081 : [기초-종합] 16진수 구구단 출력하기(py)\n",
        "n = int(input(), 16)\n",
        "for i in range(1, 16) :\n",
        "    print('%X'%n, '*%X'%i, '=%X'%(n*i), sep='')"
      ],
      "metadata": {
        "colab": {
          "base_uri": "https://localhost:8080/"
        },
        "id": "JjqfYpyHSXHu",
        "outputId": "1693719d-a040-4e50-d2ac-48cbf8ce7d81"
      },
      "execution_count": null,
      "outputs": [
        {
          "output_type": "stream",
          "name": "stdout",
          "text": [
            "B\n",
            "B*1=B\n",
            "B*2=16\n",
            "B*3=21\n",
            "B*4=2C\n",
            "B*5=37\n",
            "B*6=42\n",
            "B*7=4D\n",
            "B*8=58\n",
            "B*9=63\n",
            "B*A=6E\n",
            "B*B=79\n",
            "B*C=84\n",
            "B*D=8F\n",
            "B*E=9A\n",
            "B*F=A5\n"
          ]
        }
      ]
    },
    {
      "cell_type": "code",
      "source": [
        "# 6082 : [기초-종합] 3 6 9 게임의 왕이 되자(설명)(py)\n",
        "n = int(input())\n",
        "for i in range(1, n+1) :\n",
        "  if (i%10==3)|(i%10==6)|(i%10==9) :\n",
        "    print(\"X\", end=' ')    #출력 후 공백문자(빈칸, ' ')로 끝냄\n",
        "  else : \n",
        "    print(i, end=' ')"
      ],
      "metadata": {
        "colab": {
          "base_uri": "https://localhost:8080/"
        },
        "id": "nNLaukGKT_Ju",
        "outputId": "a485bcf9-45a0-400f-e390-322dd282953b"
      },
      "execution_count": null,
      "outputs": [
        {
          "output_type": "stream",
          "name": "stdout",
          "text": [
            "30\n",
            "1 2 X 4 5 X 7 8 X 10 11 12 X 14 15 X 17 18 X 20 21 22 X 24 25 X 27 28 X 30 "
          ]
        }
      ]
    },
    {
      "cell_type": "code",
      "source": [
        "# 6083 : [기초-종합] 빛 섞어 색 만들기(설명)(py)\n",
        "a, b, c = input().split()\n",
        "a, b, c = int(a), int(b), int(c)\n",
        "for i in range(0, a): \n",
        "  for j in range(0, b): \n",
        "    for k in range(0, c):\n",
        "      print(i, j, k, end='\\n', sep=' ')\n",
        "print(a*b*c)"
      ],
      "metadata": {
        "colab": {
          "base_uri": "https://localhost:8080/"
        },
        "id": "XHu2TJTjTuZS",
        "outputId": "993767e9-035c-41e4-d9fa-6da42223877d"
      },
      "execution_count": null,
      "outputs": [
        {
          "output_type": "stream",
          "name": "stdout",
          "text": [
            "2 2 2\n",
            "0 0 0\n",
            "0 0 1\n",
            "0 1 0\n",
            "0 1 1\n",
            "1 0 0\n",
            "1 0 1\n",
            "1 1 0\n",
            "1 1 1\n",
            "8\n"
          ]
        }
      ]
    },
    {
      "cell_type": "code",
      "source": [
        "# 6084 : [기초-종합] 소리 파일 저장용량 계산하기(py)\n",
        "# 소리 체크 횟수 h, 비트수 b, 채널 수 c, 녹음시간 s -> 저장 용량(MB), 소수점 첫째 자리\n",
        "h, b, c, s = input().split()\n",
        "h, b, c, s = int(h), int(b), int(c), int(s)\n",
        "tot_byte = h*b*c*s/8  # 총비트수/8 -> 총바이트수\n",
        "tot_mb = (tot_byte/1024)/1024  # byte -> kb -> mb\n",
        "print(format(tot_mb, \".1f\"), \"MB\", sep=' ')"
      ],
      "metadata": {
        "colab": {
          "base_uri": "https://localhost:8080/"
        },
        "id": "vlt8JGJyView",
        "outputId": "30a090d0-2ad2-4a33-caaa-b5d66aca1e60"
      },
      "execution_count": null,
      "outputs": [
        {
          "output_type": "stream",
          "name": "stdout",
          "text": [
            "44100 16 2 10\n",
            "1.7 MB\n"
          ]
        }
      ]
    },
    {
      "cell_type": "code",
      "source": [
        "# 6085 : [기초-종합] 그림 파일 저장용량 계산하기(py) \n",
        "# 가로 해상도 w, 세로 해상도 h, 한 픽셀 저장 비트 b\n",
        "w, h, b = input().split()\n",
        "w, h, b = int(w), int(h), int(b)\n",
        "tot_mb = w*h*b/8/1024/1024\n",
        "print(format(tot_mb, \".2f\"), \"MB\", sep=' ')"
      ],
      "metadata": {
        "colab": {
          "base_uri": "https://localhost:8080/"
        },
        "id": "dvKRY-4PXpmS",
        "outputId": "e7a17eb5-fad7-4c55-d425-041ddf7f7270"
      },
      "execution_count": null,
      "outputs": [
        {
          "output_type": "stream",
          "name": "stdout",
          "text": [
            "1024 768 24\n",
            "2.2 MB\n"
          ]
        }
      ]
    },
    {
      "cell_type": "code",
      "source": [
        "# 6086 : [기초-종합] 거기까지! 이제 그만~(설명)(py)\n",
        "n = int(input())\n",
        "c = 0\n",
        "s = 0\n",
        "while True :\n",
        "  s += c\n",
        "  c += 1\n",
        "  if s>=n :\n",
        "    break\n",
        "\n",
        "print(s)"
      ],
      "metadata": {
        "id": "xlrF1i5cYMuy",
        "colab": {
          "base_uri": "https://localhost:8080/"
        },
        "outputId": "a8455242-9df7-428d-c2a6-d5e22aacd1fb"
      },
      "execution_count": null,
      "outputs": [
        {
          "output_type": "stream",
          "name": "stdout",
          "text": [
            "57\n",
            "66\n"
          ]
        }
      ]
    },
    {
      "cell_type": "code",
      "source": [
        "# 6087 : [기초-종합] 3의 배수는 통과(설명)(py)\n",
        "n = int(input())\n",
        "for i in range(1, n+1) :\n",
        "  if i%3==0 :\n",
        "    continue            #다음 반복 단계로 넘어간다.\n",
        "  print(i, end=' ')    #i가 3의 배수가 아닐 때만 실행된다."
      ],
      "metadata": {
        "colab": {
          "base_uri": "https://localhost:8080/"
        },
        "id": "tqmQUGxqI09T",
        "outputId": "6b263cb0-9565-447f-9015-aeaa5982edf5"
      },
      "execution_count": null,
      "outputs": [
        {
          "output_type": "stream",
          "name": "stdout",
          "text": [
            "1 2 4 5 7 8 10 "
          ]
        }
      ]
    },
    {
      "cell_type": "code",
      "source": [
        "# 6088 : [기초-종합] 수 나열하기1(py) # 등차수열\n",
        "a, d, n = input().split()\n",
        "a, d, n = int(a), int(d), int(n)\n",
        "sum = a\n",
        "for i in range(1, n):\n",
        "  sum += d\n",
        "print(sum)\n",
        "# print(a + d*(n-1))"
      ],
      "metadata": {
        "colab": {
          "base_uri": "https://localhost:8080/"
        },
        "id": "FYo4VKTfJXHD",
        "outputId": "a2473426-f8a6-49db-87d6-ce0e37840cd2"
      },
      "execution_count": null,
      "outputs": [
        {
          "output_type": "stream",
          "name": "stdout",
          "text": [
            "1 3 4\n",
            "10\n"
          ]
        }
      ]
    },
    {
      "cell_type": "code",
      "source": [
        "# 6089 : [기초-종합] 수 나열하기2(py) # 등비수열\n",
        "a, r, n = input().split()\n",
        "a, r, n = int(a), int(r), int(n)\n",
        "s = a\n",
        "for i in range(1, n):\n",
        "  s *= r\n",
        "print(s)\n",
        "#print(a*r**(n-1))"
      ],
      "metadata": {
        "colab": {
          "base_uri": "https://localhost:8080/"
        },
        "id": "emI8gTmpLHor",
        "outputId": "0c7a3238-9881-40e1-b901-eab4028d35ca"
      },
      "execution_count": null,
      "outputs": [
        {
          "output_type": "stream",
          "name": "stdout",
          "text": [
            "2 3 7\n",
            "1458\n"
          ]
        }
      ]
    },
    {
      "cell_type": "code",
      "source": [
        "# 6090 : [기초-종합] 수 나열하기3(py)\n",
        "a, m, d, n = input().split()\n",
        "a, m, d, n = int(a), int(m), int(d), int(n)\n",
        "s = a\n",
        "for i in range(1, n):\n",
        "  s = s * m + d\n",
        "print(s)"
      ],
      "metadata": {
        "colab": {
          "base_uri": "https://localhost:8080/"
        },
        "id": "9ByBEdvnLz8E",
        "outputId": "bf4e3d32-6503-4bd0-d52c-028e17d41d6c"
      },
      "execution_count": null,
      "outputs": [
        {
          "output_type": "stream",
          "name": "stdout",
          "text": [
            "1 -2 1 8\n",
            "-85\n"
          ]
        }
      ]
    },
    {
      "cell_type": "code",
      "source": [
        "# 6091 : [기초-종합] 함께 문제 푸는 날(설명)(py)\n",
        "a, b, c = input().split()\n",
        "a, b, c = int(a), int(b), int(c)\n",
        "d = 1\n",
        "while d%a!=0 or d%b!=0 or d%c!=0 :\n",
        "  d += 1\n",
        "print(d)"
      ],
      "metadata": {
        "colab": {
          "base_uri": "https://localhost:8080/"
        },
        "id": "I_4NMqQYNfr6",
        "outputId": "1980d171-0dca-4437-a228-54a4aa105ce0"
      },
      "execution_count": null,
      "outputs": [
        {
          "output_type": "stream",
          "name": "stdout",
          "text": [
            "3 7 9\n",
            "63\n"
          ]
        }
      ]
    },
    {
      "cell_type": "code",
      "source": [
        "# 6092 : [기초-리스트] 이상한 출석 번호 부르기1(설명)(py)\n",
        "n = int(input())      #개수를 입력받아 n에 정수로 저장\n",
        "a = input().split()  #공백을 기준으로 잘라 a에 순서대로 저장\n",
        "for i in range(n) :  #0부터 n-1까지...\n",
        "  a[i] = int(a[i])       #a에 순서대로 저장되어있는 각 값을 정수로 변환해 다시 저장\n",
        "\n",
        "d = []                     #d라는 이름의 빈 리스트 [ ] 변수를 만듦. 대괄호 기호 [  ] 를 사용한다.\n",
        "for i in range(24) :  #[0, 0, 0, ... , 0, 0, 0] 과 같이 24개의 정수 값 0을 추가해 넣음\n",
        "  d.append(0)        #각 값은 d[0], d[1], d[2], ... , d[22], d[23] 으로 값을 읽고 저장할 수 있음.\n",
        "\n",
        "for i in range(n) :    #번호를 부를 때마다, 그 번호에 대한 카운트 1씩 증가\n",
        "  d[a[i]] += 1\n",
        "\n",
        "for i in range(1, 24) :  #카운트한 값을 공백을 두고 출력\n",
        "  print(d[i], end=' ')"
      ],
      "metadata": {
        "colab": {
          "base_uri": "https://localhost:8080/"
        },
        "id": "mA2CAYtYOu8y",
        "outputId": "e4c19a42-b605-4641-d30d-71fcfd2eff8d"
      },
      "execution_count": null,
      "outputs": [
        {
          "output_type": "stream",
          "name": "stdout",
          "text": [
            "10\n",
            "1 3 2 2 5 6 7 4 5 9\n",
            "1 2 1 1 2 1 1 0 1 0 0 0 0 0 0 0 0 0 0 0 0 0 0 "
          ]
        }
      ]
    },
    {
      "cell_type": "code",
      "source": [
        "# 6093 : [기초-리스트] 이상한 출석 번호 부르기2(py)\n",
        "n = int(input())      #개수를 입력받아 n에 정수로 저장\n",
        "a = input().split()  #공백을 기준으로 잘라 a에 순서대로 저장\n",
        "\n",
        "for i in range(n-1, -1, -1) :\n",
        "  print(a[i], end=' ')"
      ],
      "metadata": {
        "colab": {
          "base_uri": "https://localhost:8080/"
        },
        "id": "RsLHHlbYRLkr",
        "outputId": "7b029cdf-0555-40b0-adfe-f476682d7d0c"
      },
      "execution_count": null,
      "outputs": [
        {
          "output_type": "execute_result",
          "data": {
            "text/plain": [
              "[0, 1, 2, 1, 1, 2, 1, 1, 0, 1, 0, 0, 0, 0, 0, 0, 0, 0, 0, 0, 0, 0, 0, 0]"
            ]
          },
          "metadata": {},
          "execution_count": 20
        }
      ]
    },
    {
      "cell_type": "code",
      "source": [
        "# 6094 : [기초-리스트] 이상한 출석 번호 부르기3(py)\n",
        "n = int(input())\n",
        "a = input().split()\n",
        "for i in range(n) :  #0부터 n-1까지...\n",
        "  a[i] = int(a[i])       #a에 순서대로 저장되어있는 각 값을 정수로 변환해 다시 저장\n",
        "\n",
        "#print(min(a))\n",
        "min = a[0]\n",
        "for i in range(0, n) :\n",
        "  if a[i] < min :\n",
        "    min = a[i]\n",
        "\n",
        "print(min)"
      ],
      "metadata": {
        "colab": {
          "base_uri": "https://localhost:8080/"
        },
        "id": "z9cP0AWLRQjL",
        "outputId": "adb7c158-a954-4289-97eb-645aee82fe6b"
      },
      "execution_count": null,
      "outputs": [
        {
          "name": "stdout",
          "output_type": "stream",
          "text": [
            "10\n",
            "10 4 2 3 6 6 7 9 8 5\n"
          ]
        },
        {
          "output_type": "execute_result",
          "data": {
            "text/plain": [
              "2"
            ]
          },
          "metadata": {},
          "execution_count": 23
        }
      ]
    },
    {
      "cell_type": "code",
      "source": [
        "# 6095 : [기초-리스트] 바둑판에 흰 돌 놓기(설명)(py)\n",
        "d=[]                        #대괄호 [ ] 를 이용해 아무것도 없는 빈 리스트 만들기\n",
        "for i in range(20) :\n",
        "  d.append([])         #리스트 안에 다른 리스트 추가해 넣기\n",
        "  for j in range(20) : \n",
        "    d[i].append(0)    #리스트 안에 들어있는 리스트 안에 0 추가해 넣기\n",
        "\n",
        "n = int(input())\n",
        "for i in range(n) :\n",
        "  x, y = input().split()\n",
        "  d[int(x)][int(y)] = 1\n",
        "\n",
        "for i in range(1, 20) :\n",
        "  for j in range(1, 20) : \n",
        "    print(d[i][j], end=' ')    #공백을 두고 한 줄로 출력\n",
        "  print()                          #줄 바꿈"
      ],
      "metadata": {
        "colab": {
          "base_uri": "https://localhost:8080/"
        },
        "id": "KVudjMHPSwFz",
        "outputId": "f235f8f6-b574-4ee2-d770-6f759ab382d6"
      },
      "execution_count": null,
      "outputs": [
        {
          "output_type": "stream",
          "name": "stdout",
          "text": [
            "5\n",
            "1 1\n",
            "2 2\n",
            "3 3\n",
            "4 4\n",
            "5 5\n",
            "1 0 0 0 0 0 0 0 0 0 0 0 0 0 0 0 0 0 0 \n",
            "0 1 0 0 0 0 0 0 0 0 0 0 0 0 0 0 0 0 0 \n",
            "0 0 1 0 0 0 0 0 0 0 0 0 0 0 0 0 0 0 0 \n",
            "0 0 0 1 0 0 0 0 0 0 0 0 0 0 0 0 0 0 0 \n",
            "0 0 0 0 1 0 0 0 0 0 0 0 0 0 0 0 0 0 0 \n",
            "0 0 0 0 0 0 0 0 0 0 0 0 0 0 0 0 0 0 0 \n",
            "0 0 0 0 0 0 0 0 0 0 0 0 0 0 0 0 0 0 0 \n",
            "0 0 0 0 0 0 0 0 0 0 0 0 0 0 0 0 0 0 0 \n",
            "0 0 0 0 0 0 0 0 0 0 0 0 0 0 0 0 0 0 0 \n",
            "0 0 0 0 0 0 0 0 0 0 0 0 0 0 0 0 0 0 0 \n",
            "0 0 0 0 0 0 0 0 0 0 0 0 0 0 0 0 0 0 0 \n",
            "0 0 0 0 0 0 0 0 0 0 0 0 0 0 0 0 0 0 0 \n",
            "0 0 0 0 0 0 0 0 0 0 0 0 0 0 0 0 0 0 0 \n",
            "0 0 0 0 0 0 0 0 0 0 0 0 0 0 0 0 0 0 0 \n",
            "0 0 0 0 0 0 0 0 0 0 0 0 0 0 0 0 0 0 0 \n",
            "0 0 0 0 0 0 0 0 0 0 0 0 0 0 0 0 0 0 0 \n",
            "0 0 0 0 0 0 0 0 0 0 0 0 0 0 0 0 0 0 0 \n",
            "0 0 0 0 0 0 0 0 0 0 0 0 0 0 0 0 0 0 0 \n",
            "0 0 0 0 0 0 0 0 0 0 0 0 0 0 0 0 0 0 0 \n"
          ]
        }
      ]
    },
    {
      "cell_type": "code",
      "source": [
        "# 6096 : [기초-리스트] 바둑알 십자 뒤집기(py)\n",
        "d=[]                        #대괄호 [ ] 를 이용해 아무것도 없는 빈 리스트 만들기\n",
        "for i in range(19) :\n",
        "  d.append([])         #리스트 안에 다른 리스트 추가해 넣기\n",
        "  for j in range(19) : \n",
        "    d[i].append(0)    #리스트 안에 들어있는 리스트 안에 0 추가해 넣기\n",
        "    \n",
        "for j in range(19):\n",
        "  #dd = dd.append(data.split('\\n')[j])\n",
        "  data = input().split()\n",
        "  for k in range(19):\n",
        "    d[j][k] = data[k]  # j는 행, k는 열\n",
        "\n",
        "n = int(input())\n",
        "for i in range(n) :\n",
        "  x,y=input().split()\n",
        "  x,y = int(x)-1, int(y)-1\n",
        "  for j in range(0, 19) :\n",
        "    if d[j][y]=='0' :\n",
        "      d[j][y]='1'\n",
        "    else :\n",
        "      d[j][y]='0'\n",
        "\n",
        "    if d[x][j]=='0' :\n",
        "      d[x][j]='1'\n",
        "    else :\n",
        "      d[x][j]='0'\n",
        "\n",
        "for i in range(19): \n",
        "  for j in range(19): \n",
        "    print(d[i][j], end=' ')\n",
        "  print()"
      ],
      "metadata": {
        "id": "LasdXsxBUWFN"
      },
      "execution_count": null,
      "outputs": []
    },
    {
      "cell_type": "code",
      "source": [
        "# 6097 : [기초-리스트] 설탕과자 뽑기(py)\n",
        "\"\"\"격자판의 세로(h), 가로(w), 막대의 개수(n), 각 막대의 길이(l),\n",
        "막대를 놓는 방향(d:가로는 0, 세로는 1)과\n",
        "막대를 놓는 막대의 가장 왼쪽 또는 위쪽의 위치(x, y)가 주어질 때,\n",
        "\n",
        "격자판을 채운 막대의 모양을 출력하는 프로그램을 만들어보자.\"\"\"\n",
        "# 판 만들기\n",
        "h, w = map(int, input().split())\n",
        "pan = []\n",
        "for j in range(h): \n",
        "  pan.append([])\n",
        "  for k in range(w): \n",
        "    pan[j].append(0)\n",
        "\n",
        "n = int(input())\n",
        "for i in range(n): \n",
        "  l, d, x, y = map(int, input().split())\n",
        "  x,y = x-1, y-1\n",
        "  for k in range(l):\n",
        "    if d == 0: # 가로일 때,  \n",
        "      pan[x][y+k] = 1\n",
        "    else: \n",
        "      pan[x+k][y] = 1\n",
        "\n",
        "for i in range(h):\n",
        "  for j in range(w):\n",
        "    print(pan[i][j], end= ' ')\n",
        "  print()\n"
      ],
      "metadata": {
        "colab": {
          "base_uri": "https://localhost:8080/"
        },
        "id": "8mhkjESp64P8",
        "outputId": "3a2b87cb-e7e9-4b13-de96-58830698de6b"
      },
      "execution_count": null,
      "outputs": [
        {
          "name": "stdout",
          "output_type": "stream",
          "text": [
            "5 5\n",
            "3\n",
            "2 0 1 1\n",
            "3 1 2 3\n",
            "4 1 2 5\n"
          ]
        }
      ]
    },
    {
      "cell_type": "code",
      "source": [
        "# 6098 : [기초-리스트] 성실한 개미(py)\n",
        "## 오른쪽 또는 아래쪽으로만 움직이는 개미의 이동경로\n",
        "pan = []\n",
        "for j in range(10): \n",
        "  pan.append([])\n",
        "  for k in range(10): \n",
        "    pan[j].append(0)\n",
        "\n",
        "for j in range(10):\n",
        "  data = input().split()\n",
        "  for k in range(10):\n",
        "    pan[j][k] = data[k]  # j는 행, k는 열\n",
        "\n",
        "for i in range(len(pan)): \n",
        "  pan[i] = list(map(int, pan[i]))\n",
        "\n",
        "x,y = 1,1\n",
        "pan[x][y] = 9\n",
        "while pan[x][y] < 10:\n",
        "  if pan[x][y+1] != 1 : \n",
        "    y = y+1\n",
        "    pan[x][y] = pan[x][y]+9\n",
        "    #print(x,y,pan[x][y])\n",
        "  else: \n",
        "    x = x+1\n",
        "    pan[x][y] = pan[x][y]+9\n",
        "    #print(x,y,pan[x][y])\n",
        "else:\n",
        "  if pan[x][y]==11: pan[x][y] = 9\n",
        "  else: pan[x][y] = 1\n",
        "\n",
        "for i in range(10): \n",
        "  for j in range(10): \n",
        "    print(pan[i][j], end=' ')\n",
        "  print()"
      ],
      "metadata": {
        "colab": {
          "base_uri": "https://localhost:8080/"
        },
        "id": "YeBsWKNW8IDs",
        "outputId": "9cf79f0b-62f4-4949-acd4-fd4c46d8ce1c"
      },
      "execution_count": null,
      "outputs": [
        {
          "output_type": "stream",
          "name": "stdout",
          "text": [
            "9 9 9 9 9 9 9 9 9 9 \n",
            "9 9 9 9 9 9 9 9 9 9 \n",
            "9 9 9 9 9 9 9 9 9 9 \n",
            "9 9 9 9 9 9 9 9 9 9 \n",
            "9 9 9 9 9 9 9 9 9 9 \n",
            "9 9 9 9 9 9 9 9 9 9 \n",
            "9 9 9 9 9 9 9 9 9 9 \n",
            "9 9 9 9 9 9 9 9 9 9 \n",
            "9 9 9 9 9 9 9 9 9 9 \n",
            "9 9 9 9 9 9 9 9 9 9 \n"
          ]
        }
      ]
    },
    {
      "cell_type": "code",
      "source": [
        "pan = []\n",
        "for j in range(10): \n",
        "  pan.append([])\n",
        "  for k in range(10): \n",
        "    pan[j].append(0)\n",
        "\n",
        "for j in range(10):\n",
        "  data = input().split()\n",
        "  for k in range(10):\n",
        "    pan[j][k] = data[k]  # j는 행, k는 열\n",
        "\n",
        "for i in range(len(pan)): \n",
        "  pan[i] = list(map(int, pan[i]))"
      ],
      "metadata": {
        "colab": {
          "base_uri": "https://localhost:8080/"
        },
        "id": "oEcmr2W4ktSs",
        "outputId": "aa9ecc07-3c24-4969-cf93-a17510b942c7"
      },
      "execution_count": null,
      "outputs": [
        {
          "name": "stdout",
          "output_type": "stream",
          "text": [
            "1 1 1 1 1 1 1 1 1 1\n",
            "1 0 0 1 0 0 0 0 0 1\n",
            "1 0 0 1 1 1 0 0 0 1\n",
            "1 0 0 0 0 0 0 1 0 1\n",
            "1 0 0 0 0 0 0 1 0 1\n",
            "1 0 0 0 0 1 0 1 0 1\n",
            "1 0 0 0 0 1 2 1 0 1\n",
            "1 0 0 0 0 1 0 0 0 1\n",
            "1 0 0 0 0 0 0 0 0 1\n",
            "1 1 1 1 1 1 1 1 1 1\n"
          ]
        }
      ]
    },
    {
      "cell_type": "code",
      "source": [
        "pan2"
      ],
      "metadata": {
        "colab": {
          "base_uri": "https://localhost:8080/"
        },
        "id": "qy436xc3qzlO",
        "outputId": "59deb810-3408-452b-8528-d17112414d6d"
      },
      "execution_count": null,
      "outputs": [
        {
          "output_type": "execute_result",
          "data": {
            "text/plain": [
              "[[1, 1, 1, 1, 1, 1, 1, 1, 1, 1],\n",
              " [1, 9, 9, 1, 0, 0, 0, 0, 0, 1],\n",
              " [1, 0, 9, 1, 1, 1, 0, 0, 0, 1],\n",
              " [1, 0, 9, 9, 9, 9, 9, 1, 0, 1],\n",
              " [1, 0, 0, 0, 0, 0, 9, 1, 0, 1],\n",
              " [1, 0, 0, 0, 0, 1, 9, 1, 0, 1],\n",
              " [1, 0, 0, 0, 0, 1, 9, 1, 0, 1],\n",
              " [1, 0, 0, 0, 0, 1, 0, 0, 0, 1],\n",
              " [1, 0, 0, 0, 0, 0, 0, 0, 0, 1],\n",
              " [1, 1, 1, 1, 1, 1, 1, 1, 1, 1]]"
            ]
          },
          "metadata": {},
          "execution_count": 208
        }
      ]
    },
    {
      "cell_type": "code",
      "source": [
        "for i in range(10): \n",
        "  for j in range(10): \n",
        "    print(pan2[i][j], end=' ')\n",
        "  print()"
      ],
      "metadata": {
        "colab": {
          "base_uri": "https://localhost:8080/"
        },
        "id": "U9wHfhqkrpM_",
        "outputId": "f3f0b5e1-73a9-4883-f405-f1294725c427"
      },
      "execution_count": null,
      "outputs": [
        {
          "output_type": "stream",
          "name": "stdout",
          "text": [
            "1 1 1 1 1 1 1 1 1 1 \n",
            "1 9 9 1 0 0 0 0 0 1 \n",
            "1 0 9 1 1 1 0 0 0 1 \n",
            "1 0 9 9 9 9 9 1 0 1 \n",
            "1 0 0 0 0 0 9 1 0 1 \n",
            "1 0 0 0 0 1 9 1 0 1 \n",
            "1 0 0 0 0 1 9 1 0 1 \n",
            "1 0 0 0 0 1 0 0 0 1 \n",
            "1 0 0 0 0 0 0 0 0 1 \n",
            "1 1 1 1 1 1 1 1 1 1 \n"
          ]
        }
      ]
    },
    {
      "cell_type": "code",
      "source": [
        "x,y = 1,1\n",
        "pan2[x][y] = 9\n",
        "while True:\n",
        "  if pan2[x][y+1] == 0 : \n",
        "    pan2[x][y+1] = pan2[x+1][y]+9\n",
        "    y = y+1\n",
        "  else: \n",
        "    pan2[x+1][y] = pan2[x+1][y]+9\n",
        "    x = x+1\n",
        "  if pan2[x][y] > 10: \n",
        "    pan2[x][y] = 9\n",
        "    break"
      ],
      "metadata": {
        "id": "BDABC0cblt1k"
      },
      "execution_count": null,
      "outputs": []
    },
    {
      "cell_type": "code",
      "source": [
        "pan2"
      ],
      "metadata": {
        "colab": {
          "base_uri": "https://localhost:8080/"
        },
        "id": "YmMBGKscqMR2",
        "outputId": "1ef78fcb-a63e-49ef-b719-b961ed50187b"
      },
      "execution_count": null,
      "outputs": [
        {
          "output_type": "execute_result",
          "data": {
            "text/plain": [
              "[[1, 1, 1, 1, 1, 1, 1, 1, 1, 1],\n",
              " [1, 9, 9, 1, 0, 0, 0, 0, 0, 1],\n",
              " [1, 0, 9, 1, 1, 1, 0, 0, 0, 1],\n",
              " [1, 0, 9, 9, 9, 9, 9, 1, 0, 1],\n",
              " [1, 0, 0, 0, 0, 0, 9, 1, 0, 1],\n",
              " [1, 0, 0, 0, 0, 1, 9, 1, 0, 1],\n",
              " [1, 0, 0, 0, 0, 1, 9, 1, 0, 1],\n",
              " [1, 0, 0, 0, 0, 1, 0, 0, 0, 1],\n",
              " [1, 0, 0, 0, 0, 0, 0, 0, 0, 1],\n",
              " [1, 1, 1, 1, 1, 1, 1, 1, 1, 1]]"
            ]
          },
          "metadata": {},
          "execution_count": 206
        }
      ]
    },
    {
      "cell_type": "code",
      "source": [
        "pan2 = \"\"\"1 1 1 1 1 1 1 1 1 1\n",
        "1 0 0 1 0 0 0 0 0 1\n",
        "1 0 0 1 1 1 0 0 0 1\n",
        "1 0 0 0 0 0 0 1 0 1\n",
        "1 0 0 0 0 0 0 1 0 1\n",
        "1 0 0 0 0 1 0 1 0 1\n",
        "1 0 0 0 0 1 2 1 0 1\n",
        "1 0 0 0 0 1 0 0 0 1\n",
        "1 0 0 0 0 0 0 0 0 1\n",
        "1 1 1 1 1 1 1 1 1 1\"\"\""
      ],
      "metadata": {
        "id": "dpzuGXREotrO"
      },
      "execution_count": 12,
      "outputs": []
    },
    {
      "cell_type": "code",
      "source": [
        "pan2 = [list(map(int, pan2.split('\\n')[i].split(' ')) ) for i in range(10)]"
      ],
      "metadata": {
        "id": "DzfDxsX5pWVI"
      },
      "execution_count": 13,
      "outputs": []
    },
    {
      "cell_type": "code",
      "source": [
        "pan2 = pan.copy()\n",
        "for i in range(len(pan2)): \n",
        "  pan2[i] = list(map(int, pan2[i]))"
      ],
      "metadata": {
        "id": "b6G-MP3COnj7"
      },
      "execution_count": null,
      "outputs": []
    },
    {
      "cell_type": "code",
      "source": [
        "pan2[1][2]"
      ],
      "metadata": {
        "colab": {
          "base_uri": "https://localhost:8080/"
        },
        "id": "NEyKhr_6LJIr",
        "outputId": "8d7005e2-4cb2-4a7b-e48f-d1e70905db9a"
      },
      "execution_count": 15,
      "outputs": [
        {
          "output_type": "execute_result",
          "data": {
            "text/plain": [
              "0"
            ]
          },
          "metadata": {},
          "execution_count": 15
        }
      ]
    },
    {
      "cell_type": "code",
      "source": [
        "x,y = 1,1\n",
        "pan2[x][y] = 9\n",
        "while pan2[x][y] < 10:\n",
        "  if pan2[x][y+1] == 0 : \n",
        "    y = y+1\n",
        "    pan2[x][y] = pan2[x][y]+9\n",
        "    print(x,y,pan2[x][y])\n",
        "  else: \n",
        "    x = x+1\n",
        "    pan2[x][y] = pan2[x][y]+9\n",
        "    print(x,y,pan2[x][y])\n",
        "else:\n",
        "  pan2[x][y] = 9"
      ],
      "metadata": {
        "id": "Qix3Uds39DtU",
        "colab": {
          "base_uri": "https://localhost:8080/"
        },
        "outputId": "0f67e3ca-dad0-4d10-8ead-96a53abe2dea"
      },
      "execution_count": 16,
      "outputs": [
        {
          "output_type": "stream",
          "name": "stdout",
          "text": [
            "1 2 9\n",
            "2 2 9\n",
            "3 2 9\n",
            "3 3 9\n",
            "3 4 9\n",
            "3 5 9\n",
            "3 6 9\n",
            "4 6 9\n",
            "5 6 9\n",
            "6 6 11\n"
          ]
        }
      ]
    },
    {
      "cell_type": "code",
      "source": [
        "pan2"
      ],
      "metadata": {
        "colab": {
          "base_uri": "https://localhost:8080/"
        },
        "id": "NS3CioW0T_Bm",
        "outputId": "46173841-fc9c-4912-eb70-eba0564c4c22"
      },
      "execution_count": 17,
      "outputs": [
        {
          "output_type": "execute_result",
          "data": {
            "text/plain": [
              "[[1, 1, 1, 1, 1, 1, 1, 1, 1, 1],\n",
              " [1, 9, 9, 1, 0, 0, 0, 0, 0, 1],\n",
              " [1, 0, 9, 1, 1, 1, 0, 0, 0, 1],\n",
              " [1, 0, 9, 9, 9, 9, 9, 1, 0, 1],\n",
              " [1, 0, 0, 0, 0, 0, 9, 1, 0, 1],\n",
              " [1, 0, 0, 0, 0, 1, 9, 1, 0, 1],\n",
              " [1, 0, 0, 0, 0, 1, 9, 1, 0, 1],\n",
              " [1, 0, 0, 0, 0, 1, 0, 0, 0, 1],\n",
              " [1, 0, 0, 0, 0, 0, 0, 0, 0, 1],\n",
              " [1, 1, 1, 1, 1, 1, 1, 1, 1, 1]]"
            ]
          },
          "metadata": {},
          "execution_count": 17
        }
      ]
    },
    {
      "cell_type": "code",
      "source": [],
      "metadata": {
        "id": "9iTeo2suVWlW"
      },
      "execution_count": null,
      "outputs": []
    }
  ]
}