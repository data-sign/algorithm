{
  "nbformat": 4,
  "nbformat_minor": 0,
  "metadata": {
    "colab": {
      "provenance": [],
      "authorship_tag": "ABX9TyOzj8RDlGHBtEtCrTGA4XK3",
      "include_colab_link": true
    },
    "kernelspec": {
      "name": "python3",
      "display_name": "Python 3"
    },
    "language_info": {
      "name": "python"
    }
  },
  "cells": [
    {
      "cell_type": "markdown",
      "metadata": {
        "id": "view-in-github",
        "colab_type": "text"
      },
      "source": [
        "<a href=\"https://colab.research.google.com/github/data-sign/algorithm/blob/main/%5BAlgorithm%5D_20231015.ipynb\" target=\"_parent\"><img src=\"https://colab.research.google.com/assets/colab-badge.svg\" alt=\"Open In Colab\"/></a>"
      ]
    },
    {
      "cell_type": "code",
      "execution_count": null,
      "metadata": {
        "id": "obMgtxJlH_pd"
      },
      "outputs": [],
      "source": []
    },
    {
      "cell_type": "markdown",
      "source": [
        "## 로봇청소기\n",
        "- https://www.acmicpc.net/problem/14503\n",
        "- 로봇 청소기와 방의 상태가 주어졌을 때, 청소 영역 개수 구하기\n",
        "- 방의 크기 N*M 직사각형\n",
        "- 청소가 방향이 있으며 동, 서, 남, 북 중 하나\n",
        "- 각 칸의 좌표가 있으며 가장 북서쪽 좌표 (0,0), 남동쪽 좌표 (N-1, M-1)\n",
        "- 현재 칸이 청소되지 않으면 청소\n",
        "- 주변 4칸 중 청소되지 않은 빈 칸이 없으면\n",
        "    - 바라보는 방향을 유지한 채 한 칸 후진\n",
        "    - 후진이 안 되면(벽) 작동을 중지\n",
        "- 4칸 중 청소되지 않은 빈 칸이 있으면\n",
        "    - 반시계 방향으로 90도 회전\n",
        "    - 바라보는 방향을 기준으로 앞쪽으로 한 칸 전진\n",
        "\n",
        "- 입력 : 방의 크기 N, M, 로봇 청소기의 좌표 (r,c), 로봇 청소기가 바라보는 방향 d, d=0:북쪽, 1:동쪽, 2:남쪽, 3:서쪽\n",
        "- 각 장소 상태 : 청소되지 않은 빈 칸 =0, 벽이 있으면 1\n",
        "\n",
        "-- 문제 풀이"
      ],
      "metadata": {
        "id": "CND6pYvPILuu"
      }
    },
    {
      "cell_type": "code",
      "source": [
        "## 구현\n",
        "# 1. 현재 위치 확인 후 청소\n",
        "# 2. 4칸 중 빈 칸 확인 후, 앞쪽 칸이 청소되지 않으면 전진\n",
        "# 3. 4칸이 없으면 뒤로 후진하여 돌고, 벽이면 종료\n",
        "\n",
        "# input 받기\n",
        "N, M = map(int, input().split())\n",
        "x, y, d = map(int, input().split())\n",
        "graph = [ list(map(int, input().split())) for _ in range(N)]"
      ],
      "metadata": {
        "colab": {
          "base_uri": "https://localhost:8080/",
          "height": 398
        },
        "id": "Jn_Pj3oOKKs4",
        "outputId": "22a048c2-4cf2-45ab-ff6c-fd1d62fa92be"
      },
      "execution_count": 22,
      "outputs": [
        {
          "name": "stdout",
          "output_type": "stream",
          "text": [
            "11 10\n",
            "7 4 0\n",
            "        # 벽이거나 청소 한 지역이 4곳 -> 후진         else:             # 방향 한 번 더 전환              check\\\n"
          ]
        },
        {
          "output_type": "error",
          "ename": "ValueError",
          "evalue": "ignored",
          "traceback": [
            "\u001b[0;31m---------------------------------------------------------------------------\u001b[0m",
            "\u001b[0;31mValueError\u001b[0m                                Traceback (most recent call last)",
            "\u001b[0;32m<ipython-input-22-84547a997f2b>\u001b[0m in \u001b[0;36m<cell line: 9>\u001b[0;34m()\u001b[0m\n\u001b[1;32m      7\u001b[0m \u001b[0mN\u001b[0m\u001b[0;34m,\u001b[0m \u001b[0mM\u001b[0m \u001b[0;34m=\u001b[0m \u001b[0mmap\u001b[0m\u001b[0;34m(\u001b[0m\u001b[0mint\u001b[0m\u001b[0;34m,\u001b[0m \u001b[0minput\u001b[0m\u001b[0;34m(\u001b[0m\u001b[0;34m)\u001b[0m\u001b[0;34m.\u001b[0m\u001b[0msplit\u001b[0m\u001b[0;34m(\u001b[0m\u001b[0;34m)\u001b[0m\u001b[0;34m)\u001b[0m\u001b[0;34m\u001b[0m\u001b[0;34m\u001b[0m\u001b[0m\n\u001b[1;32m      8\u001b[0m \u001b[0mx\u001b[0m\u001b[0;34m,\u001b[0m \u001b[0my\u001b[0m\u001b[0;34m,\u001b[0m \u001b[0md\u001b[0m \u001b[0;34m=\u001b[0m \u001b[0mmap\u001b[0m\u001b[0;34m(\u001b[0m\u001b[0mint\u001b[0m\u001b[0;34m,\u001b[0m \u001b[0minput\u001b[0m\u001b[0;34m(\u001b[0m\u001b[0;34m)\u001b[0m\u001b[0;34m.\u001b[0m\u001b[0msplit\u001b[0m\u001b[0;34m(\u001b[0m\u001b[0;34m)\u001b[0m\u001b[0;34m)\u001b[0m\u001b[0;34m\u001b[0m\u001b[0;34m\u001b[0m\u001b[0m\n\u001b[0;32m----> 9\u001b[0;31m \u001b[0mgraph\u001b[0m \u001b[0;34m=\u001b[0m \u001b[0;34m[\u001b[0m \u001b[0mlist\u001b[0m\u001b[0;34m(\u001b[0m\u001b[0mmap\u001b[0m\u001b[0;34m(\u001b[0m\u001b[0mint\u001b[0m\u001b[0;34m,\u001b[0m \u001b[0minput\u001b[0m\u001b[0;34m(\u001b[0m\u001b[0;34m)\u001b[0m\u001b[0;34m.\u001b[0m\u001b[0msplit\u001b[0m\u001b[0;34m(\u001b[0m\u001b[0;34m)\u001b[0m\u001b[0;34m)\u001b[0m\u001b[0;34m)\u001b[0m \u001b[0;32mfor\u001b[0m \u001b[0m_\u001b[0m \u001b[0;32min\u001b[0m \u001b[0mrange\u001b[0m\u001b[0;34m(\u001b[0m\u001b[0mN\u001b[0m\u001b[0;34m)\u001b[0m\u001b[0;34m]\u001b[0m\u001b[0;34m\u001b[0m\u001b[0;34m\u001b[0m\u001b[0m\n\u001b[0m",
            "\u001b[0;32m<ipython-input-22-84547a997f2b>\u001b[0m in \u001b[0;36m<listcomp>\u001b[0;34m(.0)\u001b[0m\n\u001b[1;32m      7\u001b[0m \u001b[0mN\u001b[0m\u001b[0;34m,\u001b[0m \u001b[0mM\u001b[0m \u001b[0;34m=\u001b[0m \u001b[0mmap\u001b[0m\u001b[0;34m(\u001b[0m\u001b[0mint\u001b[0m\u001b[0;34m,\u001b[0m \u001b[0minput\u001b[0m\u001b[0;34m(\u001b[0m\u001b[0;34m)\u001b[0m\u001b[0;34m.\u001b[0m\u001b[0msplit\u001b[0m\u001b[0;34m(\u001b[0m\u001b[0;34m)\u001b[0m\u001b[0;34m)\u001b[0m\u001b[0;34m\u001b[0m\u001b[0;34m\u001b[0m\u001b[0m\n\u001b[1;32m      8\u001b[0m \u001b[0mx\u001b[0m\u001b[0;34m,\u001b[0m \u001b[0my\u001b[0m\u001b[0;34m,\u001b[0m \u001b[0md\u001b[0m \u001b[0;34m=\u001b[0m \u001b[0mmap\u001b[0m\u001b[0;34m(\u001b[0m\u001b[0mint\u001b[0m\u001b[0;34m,\u001b[0m \u001b[0minput\u001b[0m\u001b[0;34m(\u001b[0m\u001b[0;34m)\u001b[0m\u001b[0;34m.\u001b[0m\u001b[0msplit\u001b[0m\u001b[0;34m(\u001b[0m\u001b[0;34m)\u001b[0m\u001b[0;34m)\u001b[0m\u001b[0;34m\u001b[0m\u001b[0;34m\u001b[0m\u001b[0m\n\u001b[0;32m----> 9\u001b[0;31m \u001b[0mgraph\u001b[0m \u001b[0;34m=\u001b[0m \u001b[0;34m[\u001b[0m \u001b[0mlist\u001b[0m\u001b[0;34m(\u001b[0m\u001b[0mmap\u001b[0m\u001b[0;34m(\u001b[0m\u001b[0mint\u001b[0m\u001b[0;34m,\u001b[0m \u001b[0minput\u001b[0m\u001b[0;34m(\u001b[0m\u001b[0;34m)\u001b[0m\u001b[0;34m.\u001b[0m\u001b[0msplit\u001b[0m\u001b[0;34m(\u001b[0m\u001b[0;34m)\u001b[0m\u001b[0;34m)\u001b[0m\u001b[0;34m)\u001b[0m \u001b[0;32mfor\u001b[0m \u001b[0m_\u001b[0m \u001b[0;32min\u001b[0m \u001b[0mrange\u001b[0m\u001b[0;34m(\u001b[0m\u001b[0mN\u001b[0m\u001b[0;34m)\u001b[0m\u001b[0;34m]\u001b[0m\u001b[0;34m\u001b[0m\u001b[0;34m\u001b[0m\u001b[0m\n\u001b[0m",
            "\u001b[0;31mValueError\u001b[0m: invalid literal for int() with base 10: '#'"
          ]
        }
      ]
    },
    {
      "cell_type": "code",
      "source": [
        "graph2 = graph.copy()"
      ],
      "metadata": {
        "id": "3zo0o1rRa2XC"
      },
      "execution_count": 4,
      "outputs": []
    },
    {
      "cell_type": "code",
      "source": [
        "nd"
      ],
      "metadata": {
        "colab": {
          "base_uri": "https://localhost:8080/"
        },
        "id": "rAS1d1Lrp_Vh",
        "outputId": "fc80a939-fd1c-4ac0-d75a-21083f518db2"
      },
      "execution_count": 11,
      "outputs": [
        {
          "output_type": "execute_result",
          "data": {
            "text/plain": [
              "3"
            ]
          },
          "metadata": {},
          "execution_count": 11
        }
      ]
    },
    {
      "cell_type": "code",
      "source": [
        "N, M = map(int, input().split())\n",
        "x, y, d = map(int, input().split())\n",
        "graph = [ list(map(int, input().split())) for _ in range(N)]\n",
        "\n",
        "# 북, 동, 남, 서\n",
        "dx = [-1,0,1,0]\n",
        "dy = [0,1,0,-1]\n",
        "\n",
        "# 북, 서, 남, 동. 반시계 방향 순서\n",
        "# dir = [(0,1), (-1, 0), (0, -1), (1, 0)]\n",
        "\n",
        "# rotate direction : 북 -> 서, 서 -> 남, 남 -> 동, 동 -> 북 . 북서남동\n",
        "def rotate(d):\n",
        "    nd = 0\n",
        "    if d == 0:\n",
        "        nd = 3\n",
        "    elif d == 1:\n",
        "        nd = 0\n",
        "    elif d == 2:\n",
        "        nd = 1\n",
        "    elif d == 3:\n",
        "        nd = 2\n",
        "    return nd\n",
        "\n",
        "# 한 칸 후진 = 기존 방향과 반대 방향으로 이동\n",
        "def back(d):\n",
        "    nd = 0\n",
        "    if d == 0:\n",
        "        nd = 2\n",
        "    elif d == 1:\n",
        "        nd = 3\n",
        "    elif d == 2:\n",
        "        nd = 0\n",
        "    elif d == 3:\n",
        "        nd = 1\n",
        "    return nd\n",
        "\n",
        "# 현재 위치 청소\n",
        "graph[x][y] = 2\n",
        "cnt = 1\n",
        "# 탐색 시작\n",
        "while True:\n",
        "# def cleaner(x, y, d):\n",
        "    check = [False, False, False, False]  # 방향 전환 탐색 여부\n",
        "    while True:\n",
        "        # search rotated direction\n",
        "        nd = rotate(d)\n",
        "        nx = x + dx[nd]\n",
        "        ny = y + dy[nd]\n",
        "\n",
        "        # clean area : 좌표 이동하여 청소\n",
        "        if graph[nx][ny] == 0:\n",
        "            x, y = nx, ny\n",
        "            cnt += 1\n",
        "            d = nd\n",
        "            graph[nx][ny] = cnt\n",
        "            print(nx, ny, cnt)\n",
        "            continue\n",
        "\n",
        "        # 모두 다 방향 전환해서 탐색해도 갈 곳이 없다면 후진\n",
        "        elif all(check):\n",
        "            bd = back(nd)\n",
        "            bx = x + dx[bd]\n",
        "            by = y + dy[bd]\n",
        "\n",
        "            # 후진 시 벽이면 청소 종료\n",
        "            if graph[bx][by] == 1:\n",
        "                end = True\n",
        "                break\n",
        "            else:\n",
        "                x, y = bx, by\n",
        "                continue\n",
        "\n",
        "        # 이동했는데 벽이면 다시 반시계 방향으로 회전\n",
        "        else:\n",
        "            # 방향 한 번 더 전환\n",
        "            check[nd] = True\n",
        "            # print(check)\n",
        "            d = nd\n",
        "            continue\n",
        "\n",
        "    if end:\n",
        "        break\n",
        "print(cnt)"
      ],
      "metadata": {
        "colab": {
          "base_uri": "https://localhost:8080/"
        },
        "id": "GwiGPLPAbdgm",
        "outputId": "67992812-18a9-493b-d571-cff94db8e44c"
      },
      "execution_count": 3,
      "outputs": [
        {
          "output_type": "stream",
          "name": "stdout",
          "text": [
            "11 10\n",
            "7 4 0\n",
            "1 1 1 1 1 1 1 1 1 1\n",
            "1 0 0 0 0 0 0 0 0 1\n",
            "1 0 0 0 1 1 1 1 0 1\n",
            "1 0 0 1 1 0 0 0 0 1\n",
            "1 0 1 1 0 0 0 0 0 1\n",
            "1 0 0 0 0 0 0 0 0 1\n",
            "1 0 0 0 0 0 0 1 0 1\n",
            "1 0 0 0 0 0 1 1 0 1\n",
            "1 0 0 0 0 0 1 1 0 1\n",
            "1 0 0 0 0 0 0 0 0 1\n",
            "1 1 1 1 1 1 1 1 1 1 \n",
            "7 3 2\n",
            "8 3 3\n",
            "8 4 4\n",
            "9 4 5\n",
            "9 5 6\n",
            "8 5 7\n",
            "7 5 8\n",
            "8\n"
          ]
        }
      ]
    },
    {
      "cell_type": "code",
      "source": [
        "n, m = map(int, input().split())\n",
        "sx,sy,d = map(int, input().split())\n",
        "\n",
        "lst = []\n",
        "for i in range(n):\n",
        "    lst.append(list(map(int,input().split())))\n",
        "\n",
        "\n",
        "def rotate(cd):\n",
        "    nd = 0\n",
        "    if cd == 0:\n",
        "        # d가 북이면 nd는 서\n",
        "        nd = 3\n",
        "    elif cd == 1:\n",
        "        # d가 동이면 nd는 북\n",
        "        nd = 0\n",
        "    elif cd == 2:\n",
        "        # d가 남이면 nd는 동\n",
        "        nd = 1\n",
        "    elif cd == 3:\n",
        "        # d가 서면 nd는 남\n",
        "        nd = 2\n",
        "    return nd\n",
        "\n",
        "\n",
        "# d = 0 북 d == 1 동 , 2남, 3서\n",
        "\n",
        "dx = [-1,0,1,0]\n",
        "dy = [0,1,0,-1]\n",
        "\n",
        "def back(d):\n",
        "    if d == 0:\n",
        "        nd = 2\n",
        "    elif d == 1:\n",
        "        nd = 3\n",
        "    elif d == 2:\n",
        "        nd = 0\n",
        "    elif d == 3:\n",
        "        nd = 1\n",
        "    return nd\n",
        "\n",
        "\n",
        "end = False\n",
        "while True:\n",
        "#     1. 현재위치를 청소한다\n",
        "    lst[sx][sy] = 2\n",
        "#     2. 현재 위치에서 현재 방향 기준으로 왼쪽부터 인접 간 탐색\n",
        "    chk = [True, True, True, True]\n",
        "    while True:\n",
        "        nd = rotate(d)\n",
        "        nx = sx + dx[nd]\n",
        "        ny = sy + dy[nd]\n",
        "        if lst[nx][ny] == 0:\n",
        "            # 청소를 아직 안한곳인경우\n",
        "            sx = nx\n",
        "            sy = ny\n",
        "            d = nd\n",
        "            break\n",
        "        elif lst[nx][ny] == 1 or lst[nx][ny] == 2:\n",
        "            chk[nd] = False\n",
        "            d = nd\n",
        "        if chk.count(False) == 4:\n",
        "#             4방향 다 못가는 경우 한칸 후진\n",
        "            back_d = back(nd)\n",
        "            bx = sx + dx[back_d]\n",
        "            by = sy + dy[back_d]\n",
        "            if lst[bx][by] == 1:\n",
        "                end = True\n",
        "                break\n",
        "            else:\n",
        "                sx = bx\n",
        "                sy = by\n",
        "                break\n",
        "    if end:\n",
        "        break\n",
        "\n",
        "cnt = 0\n",
        "for i in range(len(lst)):\n",
        "    cnt += lst[i].count(2)\n",
        "print(cnt)"
      ],
      "metadata": {
        "colab": {
          "base_uri": "https://localhost:8080/"
        },
        "id": "3NJmVozUbg9b",
        "outputId": "390a38bd-6906-4c2b-ebf9-5a6654224f3a"
      },
      "execution_count": 20,
      "outputs": [
        {
          "output_type": "execute_result",
          "data": {
            "text/plain": [
              "1"
            ]
          },
          "metadata": {},
          "execution_count": 20
        }
      ]
    },
    {
      "cell_type": "code",
      "source": [
        "#dfs : https://jrc-park.tistory.com/114\n",
        "\n",
        "\n",
        "# 로봇청소기\n",
        "n, m = map(int, input().strip().split())\n",
        "y,x, d = map(int, input().strip().split())\n",
        "board = [input().strip().split() for i in range(n)]\n",
        "\n",
        "# 북 동 남 서\n",
        "dx = [0,1,0,-1]\n",
        "dy = [-1,0,1,0]\n",
        "count = 0\n",
        "\n",
        "# x,y,d 방향에서 청소를 하고 선택을 한다.\n",
        "def work(x,y,d):\n",
        "    global count\n",
        "    if board[y][x]==\"0\":     # 0이면 해당 구역을 청소한다.\n",
        "        #print(y, x)\n",
        "        count +=1\n",
        "        board[y][x] = \"2\"\n",
        "    found = False\n",
        "    for i in range(1,5):     # 다음 구역을 왼쪽부터 찾는다.     북 <- 동 <- 남 <- 서 <-\n",
        "        nx, ny = x+dx[(d-i)%4], y+dy[(d-i)%4]\n",
        "        if 0<= nx < m and 0<=ny < n:\n",
        "            if board[ny][nx]==\"0\":\n",
        "                found = True\n",
        "                work(nx, ny, (d-i)%4)\n",
        "                break\n",
        "    if not found:            # 찾지 못할 경우 뒤로 한 칸 이동\n",
        "        nx, ny = x+dx[(d+2)%4], y+dy[(d+2)%4]\n",
        "        if 0<= nx < m and 0<=ny < n and board[ny][nx]!='1':\n",
        "            work(nx, ny, d)\n",
        "\n",
        "work(x,y, d)\n",
        "print(count)\n",
        ""
      ],
      "metadata": {
        "colab": {
          "base_uri": "https://localhost:8080/"
        },
        "id": "UJP1irQxpqHr",
        "outputId": "546356dc-5979-4f38-a6e9-32144538ae87"
      },
      "execution_count": 14,
      "outputs": [
        {
          "output_type": "execute_result",
          "data": {
            "text/plain": [
              "(0, -1)"
            ]
          },
          "metadata": {},
          "execution_count": 14
        }
      ]
    },
    {
      "cell_type": "code",
      "source": [
        "(x,"
      ],
      "metadata": {
        "colab": {
          "base_uri": "https://localhost:8080/"
        },
        "id": "SvrqPsNBqMIE",
        "outputId": "69297aa8-c516-4574-adce-4e0ca73bb0fd"
      },
      "execution_count": 15,
      "outputs": [
        {
          "output_type": "execute_result",
          "data": {
            "text/plain": [
              "(1, 1, 1, -1)"
            ]
          },
          "metadata": {},
          "execution_count": 15
        }
      ]
    },
    {
      "cell_type": "code",
      "source": [],
      "metadata": {
        "id": "RaUjRKv3qQ19"
      },
      "execution_count": null,
      "outputs": []
    }
  ]
}