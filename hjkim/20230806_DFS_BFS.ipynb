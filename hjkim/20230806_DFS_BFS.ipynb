{
  "nbformat": 4,
  "nbformat_minor": 0,
  "metadata": {
    "colab": {
      "provenance": [],
      "authorship_tag": "ABX9TyMU54L2Y5iWPiidgt6uO7Gm",
      "include_colab_link": true
    },
    "kernelspec": {
      "name": "python3",
      "display_name": "Python 3"
    },
    "language_info": {
      "name": "python"
    }
  },
  "cells": [
    {
      "cell_type": "markdown",
      "metadata": {
        "id": "view-in-github",
        "colab_type": "text"
      },
      "source": [
        "<a href=\"https://colab.research.google.com/github/data-sign/algorithm/blob/main/hjkim/20230806_DFS_BFS.ipynb\" target=\"_parent\"><img src=\"https://colab.research.google.com/assets/colab-badge.svg\" alt=\"Open In Colab\"/></a>"
      ]
    },
    {
      "cell_type": "code",
      "execution_count": null,
      "metadata": {
        "id": "sUNOwNip0UYZ"
      },
      "outputs": [],
      "source": []
    },
    {
      "cell_type": "markdown",
      "source": [
        "(골드) 2589,16234,\n",
        "(골드X) 5014,2468\n",
        "- DFS/BFS : https://cyc1am3n.github.io/2019/04/26/bfs_dfs_with_python.html"
      ],
      "metadata": {
        "id": "c1AOYHRr0hSa"
      }
    },
    {
      "cell_type": "markdown",
      "source": [
        "# 5014 : 스타트링크(5:55\n",
        "- G층에 도착하기 위해 버튼을 몇 번 눌러야 하는가\n",
        "- 건물의 총 층 수 : F층\n",
        "- 현재 층 : S층\n",
        "- 목표 층 : G층\n",
        "- 위로 : U층\n",
        "- 아래로 : D층\n",
        "- 건물보다 높으면 못올라가고 1층보다 낮으면 못 내려감\n",
        "- 엘레베이터로 못가면 -> use the stairs\n",
        "- 입력 : F, S, G, U, D\n",
        "- 출력 : S->G로 가는 최소 버튼 수\n",
        "- 풀이 : 올라가거나 내려가거나 두 갈래로 나눠지고 원하는 층(G)에 도달하면 탐색 멈춤\n"
      ],
      "metadata": {
        "id": "oTrikHt60ptO"
      }
    },
    {
      "cell_type": "code",
      "source": [
        "from collections import deque\n",
        "\n",
        "def bfs():\n",
        "    queue = deque([S]) # 탐색 시작점\n",
        "    visited = [0 for i in range(F+1)]  # 방문했던 리스트 보관 -> 방문 안했던 층만 방문\n",
        "    visited[S] = 1    # 각 층 인덱스에 방문횟수(버튼 수) 저장\n",
        "\n",
        "    while queue:\n",
        "        v = queue.popleft()\n",
        "\n",
        "        # 방문한 층이 목표 층이면 탐색 종료\n",
        "        if v == G:\n",
        "            return print(visited[G] - 1)\n",
        "\n",
        "        for i in (v-D, v+U):  # 방문 위치에서 아래로 D만큼 이동~위로 U만큼 이동\n",
        "\n",
        "            if 0 < i <= F and not visited[i]:  # 방문층이 0보다 크고 F보다 작거나 같아야 함\n",
        "                queue.append(i)  # 새로운 방문 층 큐에 추가\n",
        "                visited[i] = visited[v]+1  # 이전 방문 층의 버튼 수 + 1\n",
        "                print(\"queue\", queue)\n",
        "                print(\"visited\", visited)\n",
        "    else:\n",
        "        print(\"use the stairs\")\n",
        "        return\n",
        "\n",
        "F, S, G, U, D = map(int, input().split())\n",
        "bfs()"
      ],
      "metadata": {
        "colab": {
          "base_uri": "https://localhost:8080/"
        },
        "id": "lM93PVl2-GIZ",
        "outputId": "e98fcd32-c8c7-410e-d920-c0dda92a6562"
      },
      "execution_count": 6,
      "outputs": [
        {
          "output_type": "stream",
          "name": "stdout",
          "text": [
            "queue deque([3])\n",
            "visited [0, 1, 0, 2, 0, 0, 0, 0, 0, 0, 0]\n",
            "queue deque([2])\n",
            "visited [0, 1, 3, 2, 0, 0, 0, 0, 0, 0, 0]\n",
            "queue deque([2, 5])\n",
            "visited [0, 1, 3, 2, 0, 3, 0, 0, 0, 0, 0]\n",
            "queue deque([5, 4])\n",
            "visited [0, 1, 3, 2, 4, 3, 0, 0, 0, 0, 0]\n",
            "queue deque([4, 7])\n",
            "visited [0, 1, 3, 2, 4, 3, 0, 4, 0, 0, 0]\n",
            "queue deque([7, 6])\n",
            "visited [0, 1, 3, 2, 4, 3, 5, 4, 0, 0, 0]\n",
            "queue deque([6, 9])\n",
            "visited [0, 1, 3, 2, 4, 3, 5, 4, 0, 5, 0]\n",
            "queue deque([9, 8])\n",
            "visited [0, 1, 3, 2, 4, 3, 5, 4, 6, 5, 0]\n",
            "queue deque([10])\n",
            "visited [0, 1, 3, 2, 4, 3, 5, 4, 6, 5, 7]\n",
            "6\n"
          ]
        }
      ]
    },
    {
      "cell_type": "code",
      "source": [
        "# 각 층마다 방문하는 층 수를 기억\n",
        "check = [0 for i in range(F+1)]\n",
        "visited = [0 for i in range(F+1)]  # 방문했던 리스트 보관 -> 방문 안했던 층만 방문\n",
        "\n",
        "from collections import deque\n",
        "\n",
        "def bfs():\n",
        "    queue = deque([S]) # 탐색 시작점\n",
        "    visited = [0 for i in range(F+1)]  # 방문했던 리스트 보관 -> 방문 안했던 층만 방문\n",
        "    visited[S] = 0    # 각 층 인덱스에 방문횟수(버튼 수) 저장\n",
        "\n",
        "    while queue:\n",
        "        v = queue.popleft()\n",
        "\n",
        "        # 방문한 층이 목표 층이면 탐색 종료\n",
        "        if v == G:\n",
        "            return print(visited[G])\n",
        "\n",
        "        for i in (v-D, v+U):  # 방문 위치에서 아래로 D만큼 이동~위로 U만큼 이동\n",
        "\n",
        "            if 0 < i <= F and not visited[i]:  # 방문층이 0보다 크고 F보다 작거나 같아야 함\n",
        "                queue.append(i)  # 새로운 방문 층 큐에 추가\n",
        "                visited[i] = visited[v]+1  # 이전 방문 층의 버튼 수 + 1\n",
        "                print(\"queue\", queue)\n",
        "                print(\"visited\", visited)\n",
        "    else:\n",
        "        print(\"use the stairs\")\n",
        "        return\n",
        "\n",
        "# F, S, G, U, D = map(int, input().split())\n",
        "F, S, G, U, D = [10, 1, 10, 2, 1]\n",
        "bfs()"
      ],
      "metadata": {
        "colab": {
          "base_uri": "https://localhost:8080/"
        },
        "id": "CVpCuZXm0zrP",
        "outputId": "1b690c1d-614b-4760-ccda-d71e29b285b0"
      },
      "execution_count": 7,
      "outputs": [
        {
          "output_type": "stream",
          "name": "stdout",
          "text": [
            "queue deque([3])\n",
            "visited [0, 0, 0, 1, 0, 0, 0, 0, 0, 0, 0]\n",
            "queue deque([2])\n",
            "visited [0, 0, 2, 1, 0, 0, 0, 0, 0, 0, 0]\n",
            "queue deque([2, 5])\n",
            "visited [0, 0, 2, 1, 0, 2, 0, 0, 0, 0, 0]\n",
            "queue deque([5, 1])\n",
            "visited [0, 3, 2, 1, 0, 2, 0, 0, 0, 0, 0]\n",
            "queue deque([5, 1, 4])\n",
            "visited [0, 3, 2, 1, 3, 2, 0, 0, 0, 0, 0]\n",
            "queue deque([1, 4, 7])\n",
            "visited [0, 3, 2, 1, 3, 2, 0, 3, 0, 0, 0]\n",
            "queue deque([7, 6])\n",
            "visited [0, 3, 2, 1, 3, 2, 4, 3, 0, 0, 0]\n",
            "queue deque([6, 9])\n",
            "visited [0, 3, 2, 1, 3, 2, 4, 3, 0, 4, 0]\n",
            "queue deque([9, 8])\n",
            "visited [0, 3, 2, 1, 3, 2, 4, 3, 5, 4, 0]\n",
            "queue deque([10])\n",
            "visited [0, 3, 2, 1, 3, 2, 4, 3, 5, 4, 6]\n",
            "6\n"
          ]
        }
      ]
    },
    {
      "cell_type": "markdown",
      "source": [
        "> 시작한 지점에서 방문 횟수를 1 체크를 해준 후, 마지막에 -1을 해야 첫 시작점을 방문했다고 보고 다시 방문하지 않게 됨."
      ],
      "metadata": {
        "id": "VV7gZGlaHaPN"
      }
    },
    {
      "cell_type": "markdown",
      "source": [
        "# 2468 : 안전영역\n",
        "- https://www.acmicpc.net/problem/2468\n",
        "- 안전 영역 최대 몇개 만들어지는가\n",
        "- 비의 양에 따라 침수됨\n",
        "- 안전영역은 위, 아래, 오른쪽, 왼쪽으로 인접해 있는 영역. 대각선X\n",
        "- 입력 : 지역 안전 정보가 담긴 2차원 배열\n",
        "- 출력 : 안전 영역의 최대 개수\n"
      ],
      "metadata": {
        "id": "3CzT81-K0p66"
      }
    },
    {
      "cell_type": "code",
      "source": [
        "from collections import deque\n",
        "\n",
        "matrix = []\n",
        "N = int(input())\n",
        "max_ = 0\n",
        "for i in range(N):\n",
        "    matrix.append(list(map(int, input().split())))\n",
        "    for j in range(N):    # 비오는 최대 높이 구하기\n",
        "        if matrix[i][j] > max_:\n",
        "            max_ = matrix[i][j]\n",
        "\n",
        "\n",
        "move = [[0,1], [1,0], [-1,0], [0,-1]]\n",
        "\n",
        "def bfs(x, y, rain, visited):\n",
        "    \"\"\"안전 영역 탐색\"\"\"\n",
        "    print(x,y)\n",
        "    queue = deque([[x, y]])\n",
        "    visited[x][y] = 1\n",
        "\n",
        "    while queue:\n",
        "        print(queue)\n",
        "        x, y = queue.popleft()\n",
        "\n",
        "        # 이동 y\n",
        "        for dx, dy in move:\n",
        "            nx, ny = x+dx, y+dy\n",
        "            if 0<=nx<N and 0<=ny<N and visited[nx][ny]==0 and matrix[nx][ny]>rain:\n",
        "                visited[nx][ny] = 1   # 방문기록\n",
        "                queue.append([nx, ny])\n",
        "\n",
        "\n",
        "# 각 기준에 따른 안전영역 탐색\n",
        "def get_safe_zone_cnt(rain):\n",
        "\n",
        "    visited = [[0]*N for _ in range(N)]  # 방문 기록\n",
        "    cnt = 0  # 안전 영역 개수 -> 루프 도는 횟수\n",
        "    for i in range(N):\n",
        "        for j in range(N):\n",
        "            if matrix[i][j] > rain and visited[i][j]==0:  # 비 오는 기준보다 넘는 지역을 queue에 넣고 탐색 시작\n",
        "                bfs(i,j, rain, visited)\n",
        "                cnt += 1  # 안전영역 개수 추가\n",
        "                print(\"cnt\", cnt)\n",
        "    return cnt\n",
        "\n",
        "# 최대 rain 높이까지 각 안전영역 cnt 구하기\n",
        "# max_cnt = 0\n",
        "# for i in range(max_):\n",
        "#     cnt = get_safe_zone_cnt(i)\n",
        "#     if cnt > max_cnt:\n",
        "#         max_cnt = cnt\n",
        "# print(max_cnt)\n"
      ],
      "metadata": {
        "colab": {
          "base_uri": "https://localhost:8080/"
        },
        "id": "2rCMH_1IJAhm",
        "outputId": "020d5bbb-4c2b-4ebd-92c9-9ecb5e90ad5f"
      },
      "execution_count": 13,
      "outputs": [
        {
          "name": "stdout",
          "output_type": "stream",
          "text": [
            "5\n",
            "6 8 2 6 2\n",
            "3 2 3 4 6\n",
            "6 7 3 3 2\n",
            "7 2 5 3 6\n",
            "8 9 5 2 7\n"
          ]
        }
      ]
    },
    {
      "cell_type": "code",
      "source": [
        "get_safe_zone_cnt(6)"
      ],
      "metadata": {
        "colab": {
          "base_uri": "https://localhost:8080/"
        },
        "id": "afgz_McPZIGL",
        "outputId": "e8d5d7ea-7c71-47c0-f21d-39fd454ffe83"
      },
      "execution_count": 14,
      "outputs": [
        {
          "output_type": "stream",
          "name": "stdout",
          "text": [
            "0 1\n",
            "deque([[0, 1]])\n",
            "cnt 1\n",
            "2 1\n",
            "deque([[2, 1]])\n",
            "cnt 2\n",
            "3 0\n",
            "deque([[3, 0]])\n",
            "deque([[4, 0]])\n",
            "deque([[4, 1]])\n",
            "cnt 3\n",
            "4 4\n",
            "deque([[4, 4]])\n",
            "cnt 4\n"
          ]
        },
        {
          "output_type": "execute_result",
          "data": {
            "text/plain": [
              "4"
            ]
          },
          "metadata": {},
          "execution_count": 14
        }
      ]
    },
    {
      "cell_type": "code",
      "source": [
        "get_safe_zone_cnt(4)"
      ],
      "metadata": {
        "colab": {
          "base_uri": "https://localhost:8080/"
        },
        "id": "eFzmzb18bOd1",
        "outputId": "ef445928-073e-45fd-9bc4-808530dfe1b6"
      },
      "execution_count": 15,
      "outputs": [
        {
          "output_type": "stream",
          "name": "stdout",
          "text": [
            "0 0\n",
            "deque([[0, 0]])\n",
            "deque([[0, 1]])\n",
            "cnt 1\n",
            "0 3\n",
            "deque([[0, 3]])\n",
            "cnt 2\n",
            "1 4\n",
            "deque([[1, 4]])\n",
            "cnt 3\n",
            "2 0\n",
            "deque([[2, 0]])\n",
            "deque([[2, 1], [3, 0]])\n",
            "deque([[3, 0]])\n",
            "deque([[4, 0]])\n",
            "deque([[4, 1]])\n",
            "deque([[4, 2]])\n",
            "deque([[3, 2]])\n",
            "cnt 4\n",
            "3 4\n",
            "deque([[3, 4]])\n",
            "deque([[4, 4]])\n",
            "cnt 5\n"
          ]
        },
        {
          "output_type": "execute_result",
          "data": {
            "text/plain": [
              "5"
            ]
          },
          "metadata": {},
          "execution_count": 15
        }
      ]
    },
    {
      "cell_type": "code",
      "source": [],
      "metadata": {
        "colab": {
          "base_uri": "https://localhost:8080/"
        },
        "id": "VcVE-btXa1y_",
        "outputId": "0abb0f8a-b808-4caf-9907-569ed4624c21"
      },
      "execution_count": 55,
      "outputs": [
        {
          "output_type": "execute_result",
          "data": {
            "text/plain": [
              "4"
            ]
          },
          "metadata": {},
          "execution_count": 55
        }
      ]
    },
    {
      "cell_type": "markdown",
      "source": [],
      "metadata": {
        "id": "1B1v4uZR0eBr"
      }
    },
    {
      "cell_type": "markdown",
      "source": [
        "# 2589: 보물섬\n",
        "- https://www.acmicpc.net/problem/2589\n",
        "- 보물섬 지도 (직사각형)\n",
        "- 각 칸은 육지(L)와 바다(W)로 표시\n",
        "- 상하좌우 한 칸씩 이동\n",
        "- 보물 : 가장 긴 시간이 걸리는 육지 두 곳에 나뉘어 묻혀있음\n",
        "- 육지는 같은 곳을 두 번 이상 지나가거나, 돌아가면 안됨\n",
        "- 입력 : 보물지도의 세로 크기, 가로 크기, 보물 지도\n",
        "- 출력 : 최단 거리로 이동 하는 시간\n",
        "- 주의 ! : 돌아가면 안됨"
      ],
      "metadata": {
        "id": "cmJkjcnn0qM9"
      }
    },
    {
      "cell_type": "code",
      "source": [
        "from collections import deque\n",
        "M, N = map(int, input().split())\n",
        "matrix = []\n",
        "for i in range(M):\n",
        "    matrix.append(input())\n",
        "\n",
        "move = [[1,0], [0,1], [-1,0], [0, -1]]\n",
        "visited = [[0]*N for _ in range(M)]\n",
        "\n",
        "def bfs(x,y): # 행, 열\n",
        "    \"\"\"바다 나올 때까지 육지 탐색\"\"\"\n",
        "    queue = deque([[x,y]])\n",
        "    visited[y][x] = 1\n",
        "    cnt = 0\n",
        "\n",
        "    while queue:\n",
        "        # print(queue)\n",
        "        x, y = queue.popleft()\n",
        "\n",
        "        for dx, dy in move:\n",
        "            nx, ny = x+dx, y+dy\n",
        "            if 0<=nx<N and 0<=ny<M and matrix[ny][nx] == 'L' and visited[ny][nx]==0:\n",
        "                visited[ny][nx] = visited[y][x]+1\n",
        "                if cnt < visited[ny][nx]:  # 최단 거리\n",
        "                    cnt = visited[ny][nx]\n",
        "                    # print(cnt)\n",
        "                queue.append([nx, ny])\n",
        "\n",
        "    return cnt\n",
        "\n",
        "max_ = 0\n",
        "for y in range(M):  # 행 (y)\n",
        "    for x in range(N): # 열 (x)\n",
        "        if visited[y][x] == 0 and matrix[y][x]=='L' :\n",
        "            cnt = bfs(x,y)\n",
        "            if cnt > max_:\n",
        "                max_ = cnt\n",
        "print(max_)\n"
      ],
      "metadata": {
        "colab": {
          "base_uri": "https://localhost:8080/"
        },
        "id": "g9FDCOUL0fgI",
        "outputId": "3dd1e033-f3b0-4979-e56b-41c40259db8a"
      },
      "execution_count": 50,
      "outputs": [
        {
          "output_type": "stream",
          "name": "stdout",
          "text": [
            "deque([[1, 0]])\n",
            "2\n",
            "deque([[2, 0], [1, 1]])\n",
            "3\n",
            "deque([[1, 1], [2, 1]])\n",
            "deque([[2, 1], [0, 1]])\n",
            "4\n",
            "deque([[0, 1], [2, 2]])\n",
            "deque([[2, 2], [0, 2]])\n",
            "5\n",
            "deque([[0, 2], [2, 3]])\n",
            "deque([[2, 3], [0, 3]])\n",
            "6\n",
            "deque([[0, 3], [2, 4]])\n",
            "deque([[2, 4]])\n",
            "7\n",
            "deque([[1, 4]])\n",
            "deque([[6, 0]])\n",
            "2\n",
            "deque([[6, 1]])\n",
            "3\n",
            "deque([[5, 1]])\n",
            "4\n",
            "deque([[4, 1]])\n",
            "5\n",
            "deque([[4, 2]])\n",
            "6\n",
            "deque([[4, 3]])\n",
            "7\n",
            "deque([[5, 3], [4, 4]])\n",
            "8\n",
            "deque([[4, 4], [6, 3]])\n",
            "deque([[6, 3]])\n",
            "8\n"
          ]
        }
      ]
    },
    {
      "cell_type": "code",
      "source": [
        "from collections import deque\n",
        "\n",
        "dx = [1, -1, 0, 0]\n",
        "dy = [0, 0, 1, -1]\n",
        "\n",
        "def bfs(x, y):\n",
        "    q.append([x, y])\n",
        "    c = [[0]*m for _ in range(n)]\n",
        "    c[x][y] = 1\n",
        "    num = 0\n",
        "    while q:\n",
        "        x, y = q.popleft()\n",
        "        for i in range(4):\n",
        "            nx = x + dx[i]\n",
        "            ny = y + dy[i]\n",
        "            if 0 <= nx < n and 0 <= ny < m:\n",
        "                if a[nx][ny] == 'L' and c[nx][ny] == 0:\n",
        "                    c[nx][ny] = c[x][y] + 1\n",
        "                    num = max(num, c[nx][ny])\n",
        "                    q.append([nx, ny])\n",
        "    return num-1\n",
        "\n",
        "n, m = map(int, input().split())\n",
        "a = [list(map(str, input())) for _ in range(n)]\n",
        "q = deque()\n",
        "\n",
        "cnt = 0\n",
        "for i in range(n):\n",
        "    for j in range(m):\n",
        "        if a[i][j] == 'L':\n",
        "            cnt = max(cnt, bfs(i, j))\n",
        "print(cnt)"
      ],
      "metadata": {
        "id": "zFQq8M0OHqig"
      },
      "execution_count": null,
      "outputs": []
    },
    {
      "cell_type": "markdown",
      "source": [
        "# 16234 : 인구이동\n",
        "- https://www.acmicpc.net/problem/16234\n",
        "- 인구이동 날짜 수 계산\n",
        "- 인구이동은 두 나라 인구 차이로 L명 이상 R 명 이하\n",
        "- 국경선이 모두 열리면 인구 이동\n",
        "- 인접 칸만 이동\n",
        "- 열린 국가 = 연합국\n",
        "- 연합 인구수는 연합 인구수/칸 수 = 평균 인구수\n",
        "- 인구이동이 없을 때까지 반복"
      ],
      "metadata": {
        "id": "aEExsiKw0qa_"
      }
    },
    {
      "cell_type": "code",
      "source": [
        "import sys\n",
        "input = sys.stdin.readline\n",
        "from collections import deque\n",
        "\n",
        "graph = []\n",
        "n,l,r = map(int,input().split())\n",
        "for _ in range(n):\n",
        "    graph.append(list(map(int,input().split())))\n",
        "\n",
        "dx = [0,0,1,-1]\n",
        "dy = [1,-1,0,0]\n",
        "def bfs(a,b):\n",
        "    q = deque()\n",
        "    temp = []\n",
        "    q.append((a,b))\n",
        "    temp.append((a,b))\n",
        "    while q:\n",
        "        x,y = q.popleft()\n",
        "        for i in range(4):\n",
        "            nx = x + dx[i]\n",
        "            ny = y + dy[i]\n",
        "            if 0<=nx<n and 0<=ny<n and visited[nx][ny] == 0:\n",
        "                # 국경선을 공유하는 두 나라의 인구 차이가 L명 이상, R명 이하라면, 두 나라가 공유하는 국경선을 오늘 하루 동안 연다.\n",
        "                if l<=abs(graph[nx][ny]-graph[x][y])<=r:\n",
        "                    visited[nx][ny] = 1\n",
        "                    q.append((nx,ny))\n",
        "                    temp.append((nx,ny))\n",
        "    return temp\n",
        "\n",
        "result = 0\n",
        "while 1:\n",
        "    visited = [[0] * (n+1) for _ in range(n+1)]\n",
        "    flag = 0\n",
        "    for i in range(n):\n",
        "        for j in range(n):\n",
        "            if visited[i][j] == 0:\n",
        "                visited[i][j] = 1\n",
        "                country = bfs(i,j)\n",
        "                # 위의 조건에 의해 열어야하는 국경선이 모두 열렸다면, 인구 이동을 시작한다.\n",
        "                if len(country) > 1:\n",
        "                    flag = 1\n",
        "                    # 연합을 이루고 있는 각 칸의 인구수는 (연합의 인구수) / (연합을 이루고 있는 칸의 개수)가 된다. 편의상 소수점은 버린다.\n",
        "                    number = sum([graph[x][y] for x, y in country]) // len(country)\n",
        "                    for x,y in country:\n",
        "                        graph[x][y] = number\n",
        "    # 연합을 해체하고, 모든 국경선을 닫는다.\n",
        "    if flag == 0:\n",
        "        break\n",
        "    result += 1\n",
        "print(result)"
      ],
      "metadata": {
        "colab": {
          "base_uri": "https://localhost:8080/"
        },
        "id": "m9EJpRY-0oFr",
        "outputId": "6634f663-fdaa-4fab-ddd2-86a3c98b6090"
      },
      "execution_count": 45,
      "outputs": [
        {
          "output_type": "execute_result",
          "data": {
            "text/plain": [
              "-1"
            ]
          },
          "metadata": {},
          "execution_count": 45
        }
      ]
    }
  ]
}