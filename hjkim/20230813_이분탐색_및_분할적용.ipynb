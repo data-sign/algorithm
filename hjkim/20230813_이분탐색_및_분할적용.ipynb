{
  "nbformat": 4,
  "nbformat_minor": 0,
  "metadata": {
    "colab": {
      "provenance": [],
      "toc_visible": true,
      "authorship_tag": "ABX9TyPXO8CPqTIM6T15WfbaEA95",
      "include_colab_link": true
    },
    "kernelspec": {
      "name": "python3",
      "display_name": "Python 3"
    },
    "language_info": {
      "name": "python"
    }
  },
  "cells": [
    {
      "cell_type": "markdown",
      "metadata": {
        "id": "view-in-github",
        "colab_type": "text"
      },
      "source": [
        "<a href=\"https://colab.research.google.com/github/data-sign/algorithm/blob/main/hjkim/20230813_%EC%9D%B4%EB%B6%84%ED%83%90%EC%83%89_%EB%B0%8F_%EB%B6%84%ED%95%A0%EC%A0%81%EC%9A%A9.ipynb\" target=\"_parent\"><img src=\"https://colab.research.google.com/assets/colab-badge.svg\" alt=\"Open In Colab\"/></a>"
      ]
    },
    {
      "cell_type": "code",
      "source": [],
      "metadata": {
        "id": "GBtjYVTnV9Zt"
      },
      "execution_count": null,
      "outputs": []
    },
    {
      "cell_type": "markdown",
      "source": [
        "이분탐색 및 분할적용 참고\n",
        "- https://velog.io/@kgh732/Python%EC%9C%BC%EB%A1%9C-%EB%B0%B0%EC%9A%B0%EB%8A%94-%EC%95%8C%EA%B3%A0%EB%A6%AC%EC%A6%98-%EC%9D%B4%EB%B6%84%ED%83%90%EC%83%89Binary-Search"
      ],
      "metadata": {
        "id": "VGmIPodDY4js"
      }
    },
    {
      "cell_type": "markdown",
      "source": [
        "(골드) 2110\n",
        "(골드X)1992, 1074, 10816"
      ],
      "metadata": {
        "id": "1ZkA5hyJV9yv"
      }
    },
    {
      "cell_type": "markdown",
      "source": [
        "# 2110 : 공유기 설치\n",
        " - https://www.acmicpc.net/problem/2110\n",
        " - 집 N개. 집의 좌표는 다 다름\n",
        " - 한 집에 공유기 하나. 가장 인접한 두 공유기 사이 거리를 크게\n",
        " - 가장 인접한 두 공유기 거리 최대\n",
        " - 입력 : 집의 개수 N개, 공유기 개수 C개, 집의 좌표\n",
        " - 출력 : 인접한 두 공유기 사이 최대 거리\n",
        " - 풀이 : 각 설치간격에 따른 공유기 개수 구하기\n",
        "    - 설치간격을 mid로 잡고 공유기 개수 구해서 주어진 공유기 개수에 따라 간격을 줄이거나 늘리기"
      ],
      "metadata": {
        "id": "JFGk44EW8IRm"
      }
    },
    {
      "cell_type": "code",
      "source": [
        "import sys\n",
        "input = sys.stdin.readline\n",
        "\n",
        "n, c = map(int, input().split())\n",
        "home = [int(input()) for _ in range(n)]\n",
        "home.sort()\n",
        "start = 1   # 공유기의 최소 간격\n",
        "end = home[-1] - home[0]    # 공유기의 최대 간격 : home 끝 - home 시작\n",
        "\n",
        "# 집이 두개라면 처음과 마지막 집 사이의 거리 = 최대 간격\n",
        "if c == 2:\n",
        "    print(end)\n",
        "else:\n",
        "    while start < end:\n",
        "        mid = (start+end)//2\n",
        "        current_home = home[0]  # 기준 home 위치\n",
        "        print(\"mid\", mid)\n",
        "\n",
        "        cnt = 1  # 공유기 개수\n",
        "        for i in range(1, n):\n",
        "            if home[i] - current_home >= mid :  # 두 집 간의 거리가 mid 보다 크면 공유기 설치\n",
        "                cnt += 1\n",
        "                current_home = home[i]\n",
        "        print(\"cnt\", cnt)\n",
        "\n",
        "        # 주어진 간격에 맞춰 공유기를 설치했을 때, 문제의 공유기 수와 맞는지 체크\n",
        "        if cnt >= c:  # 공유기 많이 설치 -> 간격(mid) 늘리기 (mid + 1)\n",
        "            start = mid + 1\n",
        "            result = mid\n",
        "        else : # 공유기 적게 설치 -> 간격 줄이기\n",
        "            end = mid\n",
        "\n",
        "    print(result)\n",
        "\n"
      ],
      "metadata": {
        "colab": {
          "base_uri": "https://localhost:8080/"
        },
        "id": "ftGbOY-r8GV5",
        "outputId": "eb10a525-0d19-4bd6-f650-88974d19f6f2"
      },
      "execution_count": 59,
      "outputs": [
        {
          "output_type": "stream",
          "name": "stdout",
          "text": [
            "5 3\n",
            "1\n",
            "2\n",
            "8\n",
            "4\n",
            "9\n",
            "2\n"
          ]
        }
      ]
    },
    {
      "cell_type": "markdown",
      "source": [
        "# 1992 : 쿼드트리\n",
        "- https://www.acmicpc.net/problem/1992\n",
        "- 4개의 영상 나눠 압축. 왼쪽 위, 오른쪽 위, 왼쪽 아래, 오른쪽 아래\n",
        "- 4개 영역 압축한 결과를 차례대로 괄호로 묶어 표현"
      ],
      "metadata": {
        "id": "fO7Oqhi_WGPT"
      }
    },
    {
      "cell_type": "code",
      "source": [
        "for i in range(3):\n",
        "    print(i)"
      ],
      "metadata": {
        "colab": {
          "base_uri": "https://localhost:8080/"
        },
        "id": "AlDlaLciFMNr",
        "outputId": "516fc3e5-afd3-46ea-f397-690b8c68e94c"
      },
      "execution_count": 34,
      "outputs": [
        {
          "output_type": "stream",
          "name": "stdout",
          "text": [
            "0\n",
            "1\n",
            "2\n"
          ]
        }
      ]
    },
    {
      "cell_type": "code",
      "source": [
        "# 4개씩 묶어야 함\n",
        "N = 8\n",
        "# 2차원 배열\n",
        "matrix = [ ]\n",
        "for _ in range(N):\n",
        "    matrix.append(input())"
      ],
      "metadata": {
        "id": "-c8K1OkZJ6RJ",
        "colab": {
          "base_uri": "https://localhost:8080/"
        },
        "outputId": "271ed7e6-d851-438a-9e25-0fc498cd421d"
      },
      "execution_count": 35,
      "outputs": [
        {
          "name": "stdout",
          "output_type": "stream",
          "text": [
            "11110000\n",
            "11110000\n",
            "00011100\n",
            "00011100\n",
            "11110000\n",
            "11110000\n",
            "11110011\n",
            "11110011\n"
          ]
        }
      ]
    },
    {
      "cell_type": "code",
      "source": [
        "def division(start_row, start_col, size):\n",
        "    if size == 1:   # 픽셀 하나일 때\n",
        "        print(arr[start_row][start_col], end=\"\")\n",
        "        return\n",
        "    num = arr[start_row][start_col]\n",
        "\n",
        "    for row in range(start_row, start_row + size):\n",
        "        for col in range(start_col, start_col + size):\n",
        "            if num != arr[row][col]:\n",
        "                print(\"(\", end=\"\")\n",
        "                size //= 2\n",
        "                division(start_row, start_col, size)\n",
        "                division(start_row, start_col + size, size)\n",
        "                division(start_row + size, start_col, size)\n",
        "                division(start_row + size, start_col + size, size)\n",
        "                print(\")\", end=\"\")\n",
        "                return\n",
        "\n",
        "    print(arr[start_row][start_col], end=\"\")\n",
        "    return\n",
        "\n",
        "\n",
        "n = int(input())\n",
        "arr = [ ]\n",
        "for _ in range(n):\n",
        "    arr.append(input())\n",
        "\n",
        "\n",
        "division(0, 0, n)"
      ],
      "metadata": {
        "colab": {
          "base_uri": "https://localhost:8080/"
        },
        "id": "lhIdJ3n8FYqz",
        "outputId": "5cee3152-9ec0-42d6-cec5-e233a76aa1ba"
      },
      "execution_count": 56,
      "outputs": [
        {
          "output_type": "stream",
          "name": "stdout",
          "text": [
            "((110(0101))(0010)1(0001))"
          ]
        }
      ]
    },
    {
      "cell_type": "markdown",
      "source": [
        "# 10816 : 숫자카드 2\n",
        "- https://www.acmicpc.net/problem/10816\n",
        "- 상근이가 가진 숫자카드 N 개 중에 정수 M개 숫자카드를 몇개 가지고 있는가\n",
        "- 입력 : N, N개 숫자, M, M개 숫자\n",
        "- 출력 : M개 중 상근이가 갖고 있는 카드 수\n",
        "- 여러 풀이 : https://chancoding.tistory.com/45"
      ],
      "metadata": {
        "id": "OIwnXmeiZCCy"
      }
    },
    {
      "cell_type": "code",
      "source": [
        "N = int(input())\n",
        "n_lst = list(map(int, input().split()))\n",
        "M = int(input())\n",
        "m_lst = list(map(int, input().split()))"
      ],
      "metadata": {
        "colab": {
          "base_uri": "https://localhost:8080/",
          "height": 406
        },
        "id": "pe7jiAQtZmEB",
        "outputId": "725a26b6-6533-439f-d6ac-12105a616dd7"
      },
      "execution_count": null,
      "outputs": [
        {
          "output_type": "error",
          "ename": "KeyboardInterrupt",
          "evalue": "ignored",
          "traceback": [
            "\u001b[0;31m---------------------------------------------------------------------------\u001b[0m",
            "\u001b[0;31mKeyboardInterrupt\u001b[0m                         Traceback (most recent call last)",
            "\u001b[0;32m<ipython-input-34-407d320050c1>\u001b[0m in \u001b[0;36m<cell line: 1>\u001b[0;34m()\u001b[0m\n\u001b[0;32m----> 1\u001b[0;31m \u001b[0mN\u001b[0m \u001b[0;34m=\u001b[0m \u001b[0mint\u001b[0m\u001b[0;34m(\u001b[0m\u001b[0minput\u001b[0m\u001b[0;34m(\u001b[0m\u001b[0;34m)\u001b[0m\u001b[0;34m)\u001b[0m\u001b[0;34m\u001b[0m\u001b[0;34m\u001b[0m\u001b[0m\n\u001b[0m\u001b[1;32m      2\u001b[0m \u001b[0mn_lst\u001b[0m \u001b[0;34m=\u001b[0m \u001b[0mlist\u001b[0m\u001b[0;34m(\u001b[0m\u001b[0mmap\u001b[0m\u001b[0;34m(\u001b[0m\u001b[0mint\u001b[0m\u001b[0;34m,\u001b[0m \u001b[0minput\u001b[0m\u001b[0;34m(\u001b[0m\u001b[0;34m)\u001b[0m\u001b[0;34m.\u001b[0m\u001b[0msplit\u001b[0m\u001b[0;34m(\u001b[0m\u001b[0;34m)\u001b[0m\u001b[0;34m)\u001b[0m\u001b[0;34m)\u001b[0m\u001b[0;34m\u001b[0m\u001b[0;34m\u001b[0m\u001b[0m\n\u001b[1;32m      3\u001b[0m \u001b[0mM\u001b[0m \u001b[0;34m=\u001b[0m \u001b[0mint\u001b[0m\u001b[0;34m(\u001b[0m\u001b[0minput\u001b[0m\u001b[0;34m(\u001b[0m\u001b[0;34m)\u001b[0m\u001b[0;34m)\u001b[0m\u001b[0;34m\u001b[0m\u001b[0;34m\u001b[0m\u001b[0m\n\u001b[1;32m      4\u001b[0m \u001b[0mm_lst\u001b[0m \u001b[0;34m=\u001b[0m \u001b[0mlist\u001b[0m\u001b[0;34m(\u001b[0m\u001b[0mmap\u001b[0m\u001b[0;34m(\u001b[0m\u001b[0mint\u001b[0m\u001b[0;34m,\u001b[0m \u001b[0minput\u001b[0m\u001b[0;34m(\u001b[0m\u001b[0;34m)\u001b[0m\u001b[0;34m.\u001b[0m\u001b[0msplit\u001b[0m\u001b[0;34m(\u001b[0m\u001b[0;34m)\u001b[0m\u001b[0;34m)\u001b[0m\u001b[0;34m)\u001b[0m\u001b[0;34m\u001b[0m\u001b[0;34m\u001b[0m\u001b[0m\n",
            "\u001b[0;32m/usr/local/lib/python3.10/dist-packages/ipykernel/kernelbase.py\u001b[0m in \u001b[0;36mraw_input\u001b[0;34m(self, prompt)\u001b[0m\n\u001b[1;32m    849\u001b[0m                 \u001b[0;34m\"raw_input was called, but this frontend does not support input requests.\"\u001b[0m\u001b[0;34m\u001b[0m\u001b[0;34m\u001b[0m\u001b[0m\n\u001b[1;32m    850\u001b[0m             )\n\u001b[0;32m--> 851\u001b[0;31m         return self._input_request(str(prompt),\n\u001b[0m\u001b[1;32m    852\u001b[0m             \u001b[0mself\u001b[0m\u001b[0;34m.\u001b[0m\u001b[0m_parent_ident\u001b[0m\u001b[0;34m,\u001b[0m\u001b[0;34m\u001b[0m\u001b[0;34m\u001b[0m\u001b[0m\n\u001b[1;32m    853\u001b[0m             \u001b[0mself\u001b[0m\u001b[0;34m.\u001b[0m\u001b[0m_parent_header\u001b[0m\u001b[0;34m,\u001b[0m\u001b[0;34m\u001b[0m\u001b[0;34m\u001b[0m\u001b[0m\n",
            "\u001b[0;32m/usr/local/lib/python3.10/dist-packages/ipykernel/kernelbase.py\u001b[0m in \u001b[0;36m_input_request\u001b[0;34m(self, prompt, ident, parent, password)\u001b[0m\n\u001b[1;32m    893\u001b[0m             \u001b[0;32mexcept\u001b[0m \u001b[0mKeyboardInterrupt\u001b[0m\u001b[0;34m:\u001b[0m\u001b[0;34m\u001b[0m\u001b[0;34m\u001b[0m\u001b[0m\n\u001b[1;32m    894\u001b[0m                 \u001b[0;31m# re-raise KeyboardInterrupt, to truncate traceback\u001b[0m\u001b[0;34m\u001b[0m\u001b[0;34m\u001b[0m\u001b[0m\n\u001b[0;32m--> 895\u001b[0;31m                 \u001b[0;32mraise\u001b[0m \u001b[0mKeyboardInterrupt\u001b[0m\u001b[0;34m(\u001b[0m\u001b[0;34m\"Interrupted by user\"\u001b[0m\u001b[0;34m)\u001b[0m \u001b[0;32mfrom\u001b[0m \u001b[0;32mNone\u001b[0m\u001b[0;34m\u001b[0m\u001b[0;34m\u001b[0m\u001b[0m\n\u001b[0m\u001b[1;32m    896\u001b[0m             \u001b[0;32mexcept\u001b[0m \u001b[0mException\u001b[0m \u001b[0;32mas\u001b[0m \u001b[0me\u001b[0m\u001b[0;34m:\u001b[0m\u001b[0;34m\u001b[0m\u001b[0;34m\u001b[0m\u001b[0m\n\u001b[1;32m    897\u001b[0m                 \u001b[0mself\u001b[0m\u001b[0;34m.\u001b[0m\u001b[0mlog\u001b[0m\u001b[0;34m.\u001b[0m\u001b[0mwarning\u001b[0m\u001b[0;34m(\u001b[0m\u001b[0;34m\"Invalid Message:\"\u001b[0m\u001b[0;34m,\u001b[0m \u001b[0mexc_info\u001b[0m\u001b[0;34m=\u001b[0m\u001b[0;32mTrue\u001b[0m\u001b[0;34m)\u001b[0m\u001b[0;34m\u001b[0m\u001b[0;34m\u001b[0m\u001b[0m\n",
            "\u001b[0;31mKeyboardInterrupt\u001b[0m: Interrupted by user"
          ]
        }
      ]
    },
    {
      "cell_type": "code",
      "execution_count": null,
      "metadata": {
        "id": "mE7f8maAV1Yn"
      },
      "outputs": [],
      "source": [
        "# 정렬 후 이분탐색 시작\n",
        "n_lst_sort = sorted(n_lst)"
      ]
    },
    {
      "cell_type": "code",
      "source": [
        "n_lst_sort"
      ],
      "metadata": {
        "id": "yhRdD0ixCkXo"
      },
      "execution_count": null,
      "outputs": []
    },
    {
      "cell_type": "code",
      "source": [
        "\n",
        "def binary_search(array, target):\n",
        "    left = 0\n",
        "    right = len(array)-1\n",
        "\n",
        "    while left <= right:\n",
        "        mid=(left+right)//2\n",
        "        # print(\"mid, left, right:\", mid, left, right)\n",
        "        if (array[left]==target)&(array[right]==target):\n",
        "            break\n",
        "        if array[mid] > target:\n",
        "            right = mid-1\n",
        "\n",
        "        elif array[mid] < target:\n",
        "            left = mid+1\n",
        "        else:\n",
        "            if array[right] > target:\n",
        "                right = right - 1\n",
        "\n",
        "            elif array[left] < target:\n",
        "                left = left + 1\n",
        "    return right-left+1\n",
        "\n",
        "print(*[binary_search(array, x) for x in m_lst])"
      ],
      "metadata": {
        "id": "JRNInt6qaaQ_"
      },
      "execution_count": null,
      "outputs": []
    },
    {
      "cell_type": "code",
      "source": [
        "binary_search(array, -10)"
      ],
      "metadata": {
        "id": "guxx9gJvIjpr"
      },
      "execution_count": null,
      "outputs": []
    },
    {
      "cell_type": "code",
      "source": [
        "binary_search(array, 10)"
      ],
      "metadata": {
        "id": "A2GqmSPbI4fh"
      },
      "execution_count": null,
      "outputs": []
    },
    {
      "cell_type": "code",
      "source": [
        "# import sys\n",
        "# input = sys.stdin.readline\n",
        "N = int(input())\n",
        "n_lst = sorted(list(map(int, input().split())))\n",
        "M = int(input())\n",
        "m_lst = list(map(int, input().split()))\n",
        "\n",
        "\n",
        "def binary_search(array, target):\n",
        "    left = 0\n",
        "    right = len(array)-1\n",
        "\n",
        "    while left <= right:\n",
        "        mid=(left+right)//2\n",
        "        # print(\"mid, left, right:\", mid, left, right)\n",
        "        if (array[left]==target)&(array[right]==target):\n",
        "            break\n",
        "        if array[mid] > target:\n",
        "            right = mid-1\n",
        "\n",
        "        elif array[mid] < target:\n",
        "            left = mid+1\n",
        "        else:\n",
        "            if array[right] > target:\n",
        "                right = right - 1\n",
        "\n",
        "            elif array[left] < target:\n",
        "                left = left + 1\n",
        "    return right-left+1\n",
        "\n",
        "n_dict = {}\n",
        "for n in n_lst:\n",
        "    if n not in n_dict:\n",
        "        n_dict[n] = binary_search(n_lst, n)\n",
        "print(' '.join(str(n_dict[x]) if x in n_dict else '0' for x in m_lst ))"
      ],
      "metadata": {
        "colab": {
          "base_uri": "https://localhost:8080/"
        },
        "id": "Sy5u4HwJbWAl",
        "outputId": "ae5f705d-a19b-4b06-d2c8-bdf2a4cec859"
      },
      "execution_count": null,
      "outputs": [
        {
          "output_type": "stream",
          "name": "stdout",
          "text": [
            "10\n",
            "6 3 2 10 10 10 -10 -10 7 3\n",
            "8\n",
            "10 9 -5 2 3 4 5 -10\n",
            "3 0 0 1 2 0 0 2\n"
          ]
        }
      ]
    },
    {
      "cell_type": "markdown",
      "source": [
        "# 1074 : Z\n",
        "- https://www.acmicpc.net/problem/1074\n",
        "- 2**N X 2**N 2차원 배열을 Z모양으로 탐색\n",
        "- 재귀적으로 Z모양으로 탐색\n",
        "- 입력 : N, r, c : 2의 N 제곱차원 r행 c열\n",
        "- 출력 : r행 c열을 몇번째로 방문했는가"
      ],
      "metadata": {
        "id": "KBW2rtJfJ8El"
      }
    },
    {
      "cell_type": "code",
      "source": [
        "N, c, r = map(int, input().split())\n",
        "\n",
        "sum_ = 0\n",
        "x, y = 0, 0\n",
        "while N > 1:\n",
        "    # print(\"N\", N)\n",
        "    n = (2**N)//2\n",
        "    # print(\"n\", n)\n",
        "\n",
        "    # 큰 조각으로 나눠 4분면 중 어느 사분면 속하는지에 따라 순서 더 해줌\n",
        "    if (c < x + n)&(r < y + n):  # 1사분면\n",
        "        sum_ += 4**(N-1)*0\n",
        "    elif (c < x + n)&(r >=  y + n):  # 2사분면\n",
        "        sum_ += 4**(N-1)*1\n",
        "        x, y = x, y+n\n",
        "    elif (c >= x + n)&(r < y + n):  # 3사분면\n",
        "        sum_ += 4**(N-1)*2\n",
        "        x, y = x+n, y\n",
        "    elif (c >= x + n)&(r >= y + n):  # 4사분면\n",
        "        sum_ += 4**(N-1)*3\n",
        "        x, y = x+n, y+n\n",
        "    N = N - 1\n",
        "    # print(\"sum : \", sum_)\n",
        "    # print(\"x, y:\", x, y)\n",
        "\n",
        "# 가장 작은 2*2 행렬에서 나머지로 최종 순서 더해줌\n",
        "if (c%2, r%2)==(0,0):\n",
        "    answer = sum_\n",
        "elif (c%2, r%2)==(0,1):\n",
        "    answer = sum_ + 1\n",
        "elif (c%2, r%2)==(1, 0):\n",
        "    answer = sum_ + 2\n",
        "elif (c%2, r%2)==(1,1):\n",
        "    answer = sum_ + 3\n",
        "print(answer)"
      ],
      "metadata": {
        "colab": {
          "base_uri": "https://localhost:8080/"
        },
        "id": "bFcDhBwC0XYK",
        "outputId": "f9337cef-3c96-45d8-80e5-a39f1470f24a"
      },
      "execution_count": 32,
      "outputs": [
        {
          "output_type": "stream",
          "name": "stdout",
          "text": [
            "3 3 4\n",
            "N 3\n",
            "n 4\n",
            "sum :  16\n",
            "x, y: 0 4\n",
            "N 2\n",
            "n 2\n",
            "sum :  24\n",
            "x, y: 2 4\n",
            "26\n"
          ]
        }
      ]
    },
    {
      "cell_type": "code",
      "source": [],
      "metadata": {
        "id": "Z3y1dRBJ4v7v"
      },
      "execution_count": null,
      "outputs": []
    }
  ]
}